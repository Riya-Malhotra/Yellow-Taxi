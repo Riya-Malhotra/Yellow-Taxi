{
 "cells": [
  {
   "cell_type": "code",
   "execution_count": 1,
   "id": "6017aaf3",
   "metadata": {},
   "outputs": [],
   "source": [
    "import os\n",
    "import pandas as pd\n",
    "import numpy as np\n",
    "import matplotlib.pyplot as plt\n",
    "import seaborn as sns\n",
    "import scipy.stats as sp"
   ]
  },
  {
   "cell_type": "code",
   "execution_count": 2,
   "id": "2a011a52",
   "metadata": {},
   "outputs": [],
   "source": [
    "os.chdir(r\"C:\\Users\\riama\\Desktop\\Machine_learning\")"
   ]
  },
  {
   "cell_type": "code",
   "execution_count": 3,
   "id": "4cfafe58",
   "metadata": {},
   "outputs": [],
   "source": [
    "taxi=pd.read_parquet(\"yellow_tripdata_2022-06.parquet\")"
   ]
  },
  {
   "cell_type": "code",
   "execution_count": 4,
   "id": "fefe0a42",
   "metadata": {},
   "outputs": [
    {
     "data": {
      "text/plain": [
       "(3558124, 19)"
      ]
     },
     "execution_count": 4,
     "metadata": {},
     "output_type": "execute_result"
    }
   ],
   "source": [
    "taxi.shape"
   ]
  },
  {
   "cell_type": "code",
   "execution_count": 5,
   "id": "e160d5bd",
   "metadata": {},
   "outputs": [
    {
     "data": {
      "text/html": [
       "<div>\n",
       "<style scoped>\n",
       "    .dataframe tbody tr th:only-of-type {\n",
       "        vertical-align: middle;\n",
       "    }\n",
       "\n",
       "    .dataframe tbody tr th {\n",
       "        vertical-align: top;\n",
       "    }\n",
       "\n",
       "    .dataframe thead th {\n",
       "        text-align: right;\n",
       "    }\n",
       "</style>\n",
       "<table border=\"1\" class=\"dataframe\">\n",
       "  <thead>\n",
       "    <tr style=\"text-align: right;\">\n",
       "      <th></th>\n",
       "      <th>VendorID</th>\n",
       "      <th>tpep_pickup_datetime</th>\n",
       "      <th>tpep_dropoff_datetime</th>\n",
       "      <th>passenger_count</th>\n",
       "      <th>trip_distance</th>\n",
       "      <th>RatecodeID</th>\n",
       "      <th>store_and_fwd_flag</th>\n",
       "      <th>PULocationID</th>\n",
       "      <th>DOLocationID</th>\n",
       "      <th>payment_type</th>\n",
       "      <th>fare_amount</th>\n",
       "      <th>extra</th>\n",
       "      <th>mta_tax</th>\n",
       "      <th>tip_amount</th>\n",
       "      <th>tolls_amount</th>\n",
       "      <th>improvement_surcharge</th>\n",
       "      <th>total_amount</th>\n",
       "      <th>congestion_surcharge</th>\n",
       "      <th>airport_fee</th>\n",
       "    </tr>\n",
       "  </thead>\n",
       "  <tbody>\n",
       "    <tr>\n",
       "      <th>0</th>\n",
       "      <td>1</td>\n",
       "      <td>2022-06-01 00:25:41</td>\n",
       "      <td>2022-06-01 00:48:22</td>\n",
       "      <td>1.0</td>\n",
       "      <td>11.00</td>\n",
       "      <td>1.0</td>\n",
       "      <td>N</td>\n",
       "      <td>70</td>\n",
       "      <td>48</td>\n",
       "      <td>1</td>\n",
       "      <td>32.0</td>\n",
       "      <td>3.00</td>\n",
       "      <td>0.5</td>\n",
       "      <td>2.0</td>\n",
       "      <td>6.55</td>\n",
       "      <td>0.3</td>\n",
       "      <td>44.35</td>\n",
       "      <td>2.5</td>\n",
       "      <td>0.00</td>\n",
       "    </tr>\n",
       "    <tr>\n",
       "      <th>1</th>\n",
       "      <td>1</td>\n",
       "      <td>2022-06-01 00:44:40</td>\n",
       "      <td>2022-06-01 01:01:48</td>\n",
       "      <td>1.0</td>\n",
       "      <td>4.20</td>\n",
       "      <td>1.0</td>\n",
       "      <td>N</td>\n",
       "      <td>170</td>\n",
       "      <td>226</td>\n",
       "      <td>1</td>\n",
       "      <td>14.0</td>\n",
       "      <td>3.00</td>\n",
       "      <td>0.5</td>\n",
       "      <td>0.0</td>\n",
       "      <td>0.00</td>\n",
       "      <td>0.3</td>\n",
       "      <td>17.80</td>\n",
       "      <td>2.5</td>\n",
       "      <td>0.00</td>\n",
       "    </tr>\n",
       "    <tr>\n",
       "      <th>2</th>\n",
       "      <td>2</td>\n",
       "      <td>2022-06-01 00:23:07</td>\n",
       "      <td>2022-06-01 00:39:50</td>\n",
       "      <td>1.0</td>\n",
       "      <td>9.49</td>\n",
       "      <td>1.0</td>\n",
       "      <td>N</td>\n",
       "      <td>264</td>\n",
       "      <td>113</td>\n",
       "      <td>1</td>\n",
       "      <td>26.0</td>\n",
       "      <td>0.50</td>\n",
       "      <td>0.5</td>\n",
       "      <td>5.0</td>\n",
       "      <td>6.55</td>\n",
       "      <td>0.3</td>\n",
       "      <td>42.60</td>\n",
       "      <td>2.5</td>\n",
       "      <td>1.25</td>\n",
       "    </tr>\n",
       "    <tr>\n",
       "      <th>3</th>\n",
       "      <td>1</td>\n",
       "      <td>2022-06-01 00:25:53</td>\n",
       "      <td>2022-06-01 00:57:06</td>\n",
       "      <td>2.0</td>\n",
       "      <td>12.10</td>\n",
       "      <td>1.0</td>\n",
       "      <td>N</td>\n",
       "      <td>132</td>\n",
       "      <td>17</td>\n",
       "      <td>2</td>\n",
       "      <td>37.0</td>\n",
       "      <td>1.75</td>\n",
       "      <td>0.5</td>\n",
       "      <td>0.0</td>\n",
       "      <td>0.00</td>\n",
       "      <td>0.3</td>\n",
       "      <td>39.55</td>\n",
       "      <td>0.0</td>\n",
       "      <td>1.25</td>\n",
       "    </tr>\n",
       "  </tbody>\n",
       "</table>\n",
       "</div>"
      ],
      "text/plain": [
       "   VendorID tpep_pickup_datetime tpep_dropoff_datetime  passenger_count  \\\n",
       "0         1  2022-06-01 00:25:41   2022-06-01 00:48:22              1.0   \n",
       "1         1  2022-06-01 00:44:40   2022-06-01 01:01:48              1.0   \n",
       "2         2  2022-06-01 00:23:07   2022-06-01 00:39:50              1.0   \n",
       "3         1  2022-06-01 00:25:53   2022-06-01 00:57:06              2.0   \n",
       "\n",
       "   trip_distance  RatecodeID store_and_fwd_flag  PULocationID  DOLocationID  \\\n",
       "0          11.00         1.0                  N            70            48   \n",
       "1           4.20         1.0                  N           170           226   \n",
       "2           9.49         1.0                  N           264           113   \n",
       "3          12.10         1.0                  N           132            17   \n",
       "\n",
       "   payment_type  fare_amount  extra  mta_tax  tip_amount  tolls_amount  \\\n",
       "0             1         32.0   3.00      0.5         2.0          6.55   \n",
       "1             1         14.0   3.00      0.5         0.0          0.00   \n",
       "2             1         26.0   0.50      0.5         5.0          6.55   \n",
       "3             2         37.0   1.75      0.5         0.0          0.00   \n",
       "\n",
       "   improvement_surcharge  total_amount  congestion_surcharge  airport_fee  \n",
       "0                    0.3         44.35                   2.5         0.00  \n",
       "1                    0.3         17.80                   2.5         0.00  \n",
       "2                    0.3         42.60                   2.5         1.25  \n",
       "3                    0.3         39.55                   0.0         1.25  "
      ]
     },
     "execution_count": 5,
     "metadata": {},
     "output_type": "execute_result"
    }
   ],
   "source": [
    "taxi.head(4)"
   ]
  },
  {
   "cell_type": "code",
   "execution_count": 6,
   "id": "55375a5c",
   "metadata": {},
   "outputs": [],
   "source": [
    "from sklearn.model_selection import train_test_split\n",
    "taxi_data,_=train_test_split(taxi,test_size=.98,random_state=0)"
   ]
  },
  {
   "cell_type": "code",
   "execution_count": 7,
   "id": "594e60af",
   "metadata": {},
   "outputs": [
    {
     "data": {
      "text/plain": [
       "(71162, 19)"
      ]
     },
     "execution_count": 7,
     "metadata": {},
     "output_type": "execute_result"
    }
   ],
   "source": [
    "taxi_data.shape"
   ]
  },
  {
   "cell_type": "code",
   "execution_count": 8,
   "id": "f7bdde94",
   "metadata": {},
   "outputs": [
    {
     "name": "stdout",
     "output_type": "stream",
     "text": [
      "<class 'pandas.core.frame.DataFrame'>\n",
      "Int64Index: 71162 entries, 11293 to 305711\n",
      "Data columns (total 19 columns):\n",
      " #   Column                 Non-Null Count  Dtype         \n",
      "---  ------                 --------------  -----         \n",
      " 0   VendorID               71162 non-null  int64         \n",
      " 1   tpep_pickup_datetime   71162 non-null  datetime64[ns]\n",
      " 2   tpep_dropoff_datetime  71162 non-null  datetime64[ns]\n",
      " 3   passenger_count        68502 non-null  float64       \n",
      " 4   trip_distance          71162 non-null  float64       \n",
      " 5   RatecodeID             68502 non-null  float64       \n",
      " 6   store_and_fwd_flag     68502 non-null  object        \n",
      " 7   PULocationID           71162 non-null  int64         \n",
      " 8   DOLocationID           71162 non-null  int64         \n",
      " 9   payment_type           71162 non-null  int64         \n",
      " 10  fare_amount            71162 non-null  float64       \n",
      " 11  extra                  71162 non-null  float64       \n",
      " 12  mta_tax                71162 non-null  float64       \n",
      " 13  tip_amount             71162 non-null  float64       \n",
      " 14  tolls_amount           71162 non-null  float64       \n",
      " 15  improvement_surcharge  71162 non-null  float64       \n",
      " 16  total_amount           71162 non-null  float64       \n",
      " 17  congestion_surcharge   68502 non-null  float64       \n",
      " 18  airport_fee            68502 non-null  float64       \n",
      "dtypes: datetime64[ns](2), float64(12), int64(4), object(1)\n",
      "memory usage: 10.9+ MB\n"
     ]
    }
   ],
   "source": [
    "taxi_data.info()"
   ]
  },
  {
   "cell_type": "code",
   "execution_count": 9,
   "id": "c3936257",
   "metadata": {},
   "outputs": [],
   "source": [
    "# target variable: total amount"
   ]
  },
  {
   "cell_type": "markdown",
   "id": "e3b5fb4d",
   "metadata": {},
   "source": [
    "#### EDA"
   ]
  },
  {
   "cell_type": "code",
   "execution_count": 10,
   "id": "67e9eacc",
   "metadata": {},
   "outputs": [
    {
     "data": {
      "text/plain": [
       "2    50189\n",
       "1    20830\n",
       "6      143\n",
       "Name: VendorID, dtype: int64"
      ]
     },
     "execution_count": 10,
     "metadata": {},
     "output_type": "execute_result"
    }
   ],
   "source": [
    "taxi_data[\"VendorID\"].value_counts()"
   ]
  },
  {
   "cell_type": "code",
   "execution_count": 11,
   "id": "1ad95224",
   "metadata": {},
   "outputs": [],
   "source": [
    "def univar(data,y):\n",
    "    unique_count= data[y].nunique()\n",
    "    missing= data[y].isnull().sum()\n",
    "    unique_cat= list(data[y].unique())\n",
    "    f1=pd.DataFrame(data[y].value_counts(dropna=False))\n",
    "    f1.rename(columns={y:\"Count\"},inplace=True)\n",
    "    f2=pd.DataFrame(data[y].value_counts(normalize=True))\n",
    "    f2.rename(columns={y:\"percentage\"},inplace=True)\n",
    "    f2[\"percentage\"]=round(f2[\"percentage\"]*100,2)  #(f2[\"percentage\"]*100).round(2).astype(str)+\"%\" (if we want to add percentage\n",
    "                                                    #then we have to convert it to string then will add %symbol)\n",
    "    ff=pd.concat([f1,f2],axis=1)\n",
    "    \n",
    "    myvalue= {\"missing\":missing,\"unique category\": unique_cat,\"unique_count\":unique_count}\n",
    "    print(f\"value count and %\\n\",ff)\n",
    "    sns.countplot(data=data,x=y)\n",
    "    return myvalue"
   ]
  },
  {
   "cell_type": "code",
   "execution_count": 12,
   "id": "f5119fe2",
   "metadata": {},
   "outputs": [],
   "source": [
    "def univar_num(y):\n",
    "    missing= y.isnull().sum()\n",
    "    min1=round(y.min(),2)\n",
    "    max1=round(y.max(),2)\n",
    "    mean=round(y.mean(),2)\n",
    "    var=round(y.var(),2)\n",
    "    std=round(y.std(),2)\n",
    "    range1=round(max1-min1,2)\n",
    "    q1= round(y.quantile(.25),2)\n",
    "    q2=round(y.quantile(.5),2)\n",
    "    q3=round(y.quantile(.75),2)\n",
    "    skew=round(y.skew(),2)\n",
    "    kurt=round(y.kurt(),2)\n",
    "    myval={\"Missing Value\":missing,\"Minimum value\": min1,\"Maximum value\": max1, \"Mean value\": mean,\"Variance\": var,\"Standard Deviation\": std,\"Range\": range1,\n",
    "          \"Quantile1\":q1,\"Quantile2\": q2,\"Quantile3\":q3,\"Skewness\": skew,\"kurtosis\":kurt}\n",
    "#     sns.histplot(y)\n",
    "#     plt.show()\n",
    "#     sns.boxplot(data=taxi_data,y=y)\n",
    "#     plt.show()\n",
    "    return myval"
   ]
  },
  {
   "cell_type": "code",
   "execution_count": 13,
   "id": "687613fd",
   "metadata": {},
   "outputs": [
    {
     "name": "stdout",
     "output_type": "stream",
     "text": [
      "value count and %\n",
      "    Count  percentage\n",
      "2  50189       70.53\n",
      "1  20830       29.27\n",
      "6    143        0.20\n"
     ]
    },
    {
     "data": {
      "text/plain": [
       "{'missing': 0, 'unique category': [2, 1, 6], 'unique_count': 3}"
      ]
     },
     "execution_count": 13,
     "metadata": {},
     "output_type": "execute_result"
    },
    {
     "data": {
      "image/png": "[encoded data removed]",
      "text/plain": [
       "<Figure size 432x288 with 1 Axes>"
      ]
     },
     "metadata": {
      "needs_background": "light"
     },
     "output_type": "display_data"
    }
   ],
   "source": [
    "univar(taxi_data,\"VendorID\")"
   ]
  },
  {
   "cell_type": "code",
   "execution_count": 14,
   "id": "75d9e42f",
   "metadata": {},
   "outputs": [
    {
     "data": {
      "text/plain": [
       "2         50189\n",
       "1         20830\n",
       "others      143\n",
       "Name: VendorID, dtype: int64"
      ]
     },
     "execution_count": 14,
     "metadata": {},
     "output_type": "execute_result"
    }
   ],
   "source": [
    "taxi_data[\"VendorID\"]=taxi_data[\"VendorID\"].replace([6,5] ,\"others\")\n",
    "taxi_data[\"VendorID\"].value_counts()"
   ]
  },
  {
   "cell_type": "code",
   "execution_count": 15,
   "id": "40c49640",
   "metadata": {},
   "outputs": [
    {
     "data": {
      "text/plain": [
       "VendorID              object\n",
       "store_and_fwd_flag    object\n",
       "dtype: object"
      ]
     },
     "execution_count": 15,
     "metadata": {},
     "output_type": "execute_result"
    }
   ],
   "source": [
    "taxi_data.dtypes[taxi_data.dtypes==\"object\"]"
   ]
  },
  {
   "cell_type": "code",
   "execution_count": 16,
   "id": "3774e68e",
   "metadata": {},
   "outputs": [
    {
     "name": "stdout",
     "output_type": "stream",
     "text": [
      "value count and %\n",
      "       Count  percentage\n",
      "N     67674       98.79\n",
      "None   2660         NaN\n",
      "Y       828        1.21\n"
     ]
    },
    {
     "data": {
      "text/plain": [
       "{'missing': 2660, 'unique category': ['N', None, 'Y'], 'unique_count': 2}"
      ]
     },
     "execution_count": 16,
     "metadata": {},
     "output_type": "execute_result"
    },
    {
     "data": {
      "image/png": "[encoded data removed]",
      "text/plain": [
       "<Figure size 432x288 with 1 Axes>"
      ]
     },
     "metadata": {
      "needs_background": "light"
     },
     "output_type": "display_data"
    }
   ],
   "source": [
    "univar(taxi_data,\"store_and_fwd_flag\")"
   ]
  },
  {
   "cell_type": "code",
   "execution_count": 17,
   "id": "64380615",
   "metadata": {},
   "outputs": [],
   "source": [
    "taxi_data[\"store_and_fwd_flag\"]=taxi_data[\"store_and_fwd_flag\"].replace(np.nan,\"other\")"
   ]
  },
  {
   "cell_type": "code",
   "execution_count": 18,
   "id": "6fd9e85a",
   "metadata": {},
   "outputs": [
    {
     "data": {
      "text/plain": [
       "0"
      ]
     },
     "execution_count": 18,
     "metadata": {},
     "output_type": "execute_result"
    }
   ],
   "source": [
    "taxi_data[\"store_and_fwd_flag\"].isnull().sum()"
   ]
  },
  {
   "cell_type": "code",
   "execution_count": 19,
   "id": "09a74ecf",
   "metadata": {},
   "outputs": [],
   "source": [
    "taxi_data[\"RatecodeID\"]=taxi_data[\"RatecodeID\"].map({1:\"Standard_rate\",2:\"JFK\",3:\"Newark\",4:\"Nassau_or_Westchester\",5:\"Negotiated_fare\",6:\"Group_ride\",99:\"other\"})"
   ]
  },
  {
   "cell_type": "code",
   "execution_count": 20,
   "id": "40dfbfee",
   "metadata": {},
   "outputs": [],
   "source": [
    "# 1= Standard rate\n",
    "# 2=JFK\n",
    "# 3=Newark\n",
    "# 4=Nassau or Westchester\n",
    "# 5=Negotiated fare\n",
    "# 6=Group ride"
   ]
  },
  {
   "cell_type": "code",
   "execution_count": 21,
   "id": "875b4d8d",
   "metadata": {},
   "outputs": [
    {
     "name": "stdout",
     "output_type": "stream",
     "text": [
      "value count and %\n",
      "                        Count  percentage\n",
      "Standard_rate          64553       94.24\n",
      "JFK                     2826        4.13\n",
      "NaN                     2660         NaN\n",
      "Negotiated_fare          612        0.89\n",
      "Newark                   217        0.32\n",
      "other                    206        0.30\n",
      "Nassau_or_Westchester     88        0.13\n"
     ]
    },
    {
     "data": {
      "text/plain": [
       "{'missing': 2660,\n",
       " 'unique category': ['Standard_rate',\n",
       "  nan,\n",
       "  'Negotiated_fare',\n",
       "  'JFK',\n",
       "  'Newark',\n",
       "  'Nassau_or_Westchester',\n",
       "  'other'],\n",
       " 'unique_count': 6}"
      ]
     },
     "execution_count": 21,
     "metadata": {},
     "output_type": "execute_result"
    },
    {
     "data": {
      "image/png": "[encoded data removed]",
      "text/plain": [
       "<Figure size 432x288 with 1 Axes>"
      ]
     },
     "metadata": {
      "needs_background": "light"
     },
     "output_type": "display_data"
    }
   ],
   "source": [
    "univar(taxi_data,\"RatecodeID\")"
   ]
  },
  {
   "cell_type": "code",
   "execution_count": 22,
   "id": "85ee111e",
   "metadata": {},
   "outputs": [],
   "source": [
    "taxi_data[\"RatecodeID\"]=taxi_data[\"RatecodeID\"].replace(np.nan,\"other\")"
   ]
  },
  {
   "cell_type": "code",
   "execution_count": 23,
   "id": "415b7953",
   "metadata": {},
   "outputs": [],
   "source": [
    "# 1= Credit card\n",
    "# 2= Cash\n",
    "# 3= No charge\n",
    "# 4= Dispute\n",
    "# 5= Unknown\n",
    "# 6= Voided trip"
   ]
  },
  {
   "cell_type": "code",
   "execution_count": 24,
   "id": "9ee0aa1c",
   "metadata": {},
   "outputs": [
    {
     "name": "stdout",
     "output_type": "stream",
     "text": [
      "value count and %\n",
      "    Count  percentage\n",
      "1  53921       75.77\n",
      "2  13873       19.49\n",
      "0   2660        3.74\n",
      "3    363        0.51\n",
      "4    345        0.48\n"
     ]
    },
    {
     "data": {
      "text/plain": [
       "{'missing': 0, 'unique category': [1, 2, 0, 4, 3], 'unique_count': 5}"
      ]
     },
     "execution_count": 24,
     "metadata": {},
     "output_type": "execute_result"
    },
    {
     "data": {
      "image/png": "[encoded data removed]",
      "text/plain": [
       "<Figure size 432x288 with 1 Axes>"
      ]
     },
     "metadata": {
      "needs_background": "light"
     },
     "output_type": "display_data"
    }
   ],
   "source": [
    "univar(taxi_data,\"payment_type\")"
   ]
  },
  {
   "cell_type": "code",
   "execution_count": 25,
   "id": "7b419550",
   "metadata": {},
   "outputs": [],
   "source": [
    "taxi_data[\"payment_type\"]=taxi_data[\"payment_type\"].map({1:\"Credit_card\",2:\"Cash\",3:\"No_charge\",4:\"Dispute\",0:\"Unknown\"})"
   ]
  },
  {
   "cell_type": "code",
   "execution_count": 26,
   "id": "4ac46ed2",
   "metadata": {},
   "outputs": [
    {
     "data": {
      "text/plain": [
       "Credit_card    53921\n",
       "Cash           13873\n",
       "Unknown         2660\n",
       "No_charge        363\n",
       "Dispute          345\n",
       "Name: payment_type, dtype: int64"
      ]
     },
     "execution_count": 26,
     "metadata": {},
     "output_type": "execute_result"
    }
   ],
   "source": [
    "taxi_data[\"payment_type\"].value_counts(dropna=False)"
   ]
  },
  {
   "cell_type": "code",
   "execution_count": 27,
   "id": "467bcd16",
   "metadata": {},
   "outputs": [
    {
     "data": {
      "text/plain": [
       "{'Missing Value': 2660,\n",
       " 'Minimum value': 0.0,\n",
       " 'Maximum value': 6.0,\n",
       " 'Mean value': 1.4,\n",
       " 'Variance': 0.92,\n",
       " 'Standard Deviation': 0.96,\n",
       " 'Range': 6.0,\n",
       " 'Quantile1': 1.0,\n",
       " 'Quantile2': 1.0,\n",
       " 'Quantile3': 1.0,\n",
       " 'Skewness': 2.74,\n",
       " 'kurtosis': 8.32}"
      ]
     },
     "execution_count": 27,
     "metadata": {},
     "output_type": "execute_result"
    }
   ],
   "source": [
    "univar_num(taxi_data[\"passenger_count\"])"
   ]
  },
  {
   "cell_type": "code",
   "execution_count": 28,
   "id": "1e1d81a4",
   "metadata": {},
   "outputs": [
    {
     "data": {
      "text/plain": [
       "{'Missing Value': 0,\n",
       " 'Minimum value': 0.0,\n",
       " 'Maximum value': 111375.9,\n",
       " 'Mean value': 5.14,\n",
       " 'Variance': 174326.41,\n",
       " 'Standard Deviation': 417.52,\n",
       " 'Range': 111375.9,\n",
       " 'Quantile1': 1.14,\n",
       " 'Quantile2': 1.94,\n",
       " 'Quantile3': 3.63,\n",
       " 'Skewness': 266.71,\n",
       " 'kurtosis': 71143.4}"
      ]
     },
     "execution_count": 28,
     "metadata": {},
     "output_type": "execute_result"
    }
   ],
   "source": [
    "univar_num(taxi_data[\"trip_distance\"])"
   ]
  },
  {
   "cell_type": "code",
   "execution_count": 29,
   "id": "13226375",
   "metadata": {},
   "outputs": [
    {
     "data": {
      "text/plain": [
       "{'Missing Value': 0,\n",
       " 'Minimum value': 1,\n",
       " 'Maximum value': 265,\n",
       " 'Mean value': 164.48,\n",
       " 'Variance': 4309.39,\n",
       " 'Standard Deviation': 65.65,\n",
       " 'Range': 264,\n",
       " 'Quantile1': 132.0,\n",
       " 'Quantile2': 162.0,\n",
       " 'Quantile3': 234.0,\n",
       " 'Skewness': -0.26,\n",
       " 'kurtosis': -0.89}"
      ]
     },
     "execution_count": 29,
     "metadata": {},
     "output_type": "execute_result"
    }
   ],
   "source": [
    "univar_num(taxi_data[\"PULocationID\"])"
   ]
  },
  {
   "cell_type": "code",
   "execution_count": 30,
   "id": "5aa35fbc",
   "metadata": {},
   "outputs": [],
   "source": [
    "taxi_data.drop(columns=[\"DOLocationID\",\"PULocationID\"],inplace=True)  #removing this two as both are categorical and we are not \n",
    "                                                          #known about it in details"
   ]
  },
  {
   "cell_type": "code",
   "execution_count": 31,
   "id": "b207af2a",
   "metadata": {},
   "outputs": [
    {
     "data": {
      "text/plain": [
       "{'Missing Value': 0,\n",
       " 'Minimum value': -500.0,\n",
       " 'Maximum value': 6977.0,\n",
       " 'Mean value': 15.3,\n",
       " 'Variance': 2259.4,\n",
       " 'Standard Deviation': 47.53,\n",
       " 'Range': 7477.0,\n",
       " 'Quantile1': 7.0,\n",
       " 'Quantile2': 10.5,\n",
       " 'Quantile3': 16.5,\n",
       " 'Skewness': 132.37,\n",
       " 'kurtosis': 19353.71}"
      ]
     },
     "execution_count": 31,
     "metadata": {},
     "output_type": "execute_result"
    }
   ],
   "source": [
    "univar_num(taxi_data[\"fare_amount\"]) #minimum value is in negative"
   ]
  },
  {
   "cell_type": "code",
   "execution_count": 32,
   "id": "aa8d21ce",
   "metadata": {},
   "outputs": [
    {
     "data": {
      "text/plain": [
       "(514, 17)"
      ]
     },
     "execution_count": 32,
     "metadata": {},
     "output_type": "execute_result"
    }
   ],
   "source": [
    "taxi_data[taxi_data[\"fare_amount\"]<=0].shape"
   ]
  },
  {
   "cell_type": "code",
   "execution_count": 33,
   "id": "24612dc7",
   "metadata": {},
   "outputs": [],
   "source": [
    "#Removing the columns which have fare amount less than 2.5 bcz in usa fare amount is till 2.5 hence it cannot be low\n",
    "taxi1=taxi_data[taxi_data[\"fare_amount\"]>=2.5]"
   ]
  },
  {
   "cell_type": "code",
   "execution_count": 34,
   "id": "3c188bcc",
   "metadata": {},
   "outputs": [
    {
     "data": {
      "text/plain": [
       "Index(['tpep_pickup_datetime', 'tpep_dropoff_datetime', 'passenger_count',\n",
       "       'trip_distance', 'fare_amount', 'extra', 'mta_tax', 'tip_amount',\n",
       "       'tolls_amount', 'improvement_surcharge', 'total_amount',\n",
       "       'congestion_surcharge', 'airport_fee'],\n",
       "      dtype='object')"
      ]
     },
     "execution_count": 34,
     "metadata": {},
     "output_type": "execute_result"
    }
   ],
   "source": [
    "taxi1.dtypes[taxi1.dtypes!=\"object\"].index"
   ]
  },
  {
   "cell_type": "code",
   "execution_count": 35,
   "id": "a90cdae2",
   "metadata": {},
   "outputs": [
    {
     "data": {
      "text/plain": [
       "{'Missing Value': 0,\n",
       " 'Minimum value': 0.0,\n",
       " 'Maximum value': 8.25,\n",
       " 'Mean value': 1.03,\n",
       " 'Variance': 1.58,\n",
       " 'Standard Deviation': 1.26,\n",
       " 'Range': 8.25,\n",
       " 'Quantile1': 0.0,\n",
       " 'Quantile2': 0.5,\n",
       " 'Quantile3': 2.5,\n",
       " 'Skewness': 1.14,\n",
       " 'kurtosis': 0.75}"
      ]
     },
     "execution_count": 35,
     "metadata": {},
     "output_type": "execute_result"
    }
   ],
   "source": [
    "univar_num(taxi1[\"extra\"])"
   ]
  },
  {
   "cell_type": "code",
   "execution_count": 36,
   "id": "2bbfdbe1",
   "metadata": {},
   "outputs": [
    {
     "data": {
      "text/plain": [
       "{'Missing Value': 0,\n",
       " 'Minimum value': 0.0,\n",
       " 'Maximum value': 2.78,\n",
       " 'Mean value': 0.49,\n",
       " 'Variance': 0.0,\n",
       " 'Standard Deviation': 0.05,\n",
       " 'Range': 2.78,\n",
       " 'Quantile1': 0.5,\n",
       " 'Quantile2': 0.5,\n",
       " 'Quantile3': 0.5,\n",
       " 'Skewness': -6.5,\n",
       " 'kurtosis': 188.41}"
      ]
     },
     "execution_count": 36,
     "metadata": {},
     "output_type": "execute_result"
    }
   ],
   "source": [
    "univar_num(taxi1[\"mta_tax\"])"
   ]
  },
  {
   "cell_type": "code",
   "execution_count": 37,
   "id": "6b322da9",
   "metadata": {},
   "outputs": [
    {
     "data": {
      "text/plain": [
       "{'Missing Value': 0,\n",
       " 'Minimum value': 0.0,\n",
       " 'Maximum value': 98.0,\n",
       " 'Mean value': 2.81,\n",
       " 'Variance': 10.4,\n",
       " 'Standard Deviation': 3.22,\n",
       " 'Range': 98.0,\n",
       " 'Quantile1': 1.0,\n",
       " 'Quantile2': 2.2,\n",
       " 'Quantile3': 3.45,\n",
       " 'Skewness': 3.82,\n",
       " 'kurtosis': 44.22}"
      ]
     },
     "execution_count": 37,
     "metadata": {},
     "output_type": "execute_result"
    }
   ],
   "source": [
    "univar_num(taxi1[\"tip_amount\"])"
   ]
  },
  {
   "cell_type": "code",
   "execution_count": 38,
   "id": "f52bcb9a",
   "metadata": {},
   "outputs": [
    {
     "data": {
      "text/plain": [
       "{'Missing Value': 0,\n",
       " 'Minimum value': 0.0,\n",
       " 'Maximum value': 52.0,\n",
       " 'Mean value': 0.57,\n",
       " 'Variance': 4.33,\n",
       " 'Standard Deviation': 2.08,\n",
       " 'Range': 52.0,\n",
       " 'Quantile1': 0.0,\n",
       " 'Quantile2': 0.0,\n",
       " 'Quantile3': 0.0,\n",
       " 'Skewness': 4.8,\n",
       " 'kurtosis': 36.86}"
      ]
     },
     "execution_count": 38,
     "metadata": {},
     "output_type": "execute_result"
    }
   ],
   "source": [
    "univar_num(taxi1[\"tolls_amount\"])"
   ]
  },
  {
   "cell_type": "code",
   "execution_count": 39,
   "id": "01d668df",
   "metadata": {},
   "outputs": [
    {
     "data": {
      "text/plain": [
       "{'Missing Value': 0,\n",
       " 'Minimum value': 0.0,\n",
       " 'Maximum value': 0.3,\n",
       " 'Mean value': 0.3,\n",
       " 'Variance': 0.0,\n",
       " 'Standard Deviation': 0.0,\n",
       " 'Range': 0.3,\n",
       " 'Quantile1': 0.3,\n",
       " 'Quantile2': 0.3,\n",
       " 'Quantile3': 0.3,\n",
       " 'Skewness': -76.71,\n",
       " 'kurtosis': 5881.83}"
      ]
     },
     "execution_count": 39,
     "metadata": {},
     "output_type": "execute_result"
    }
   ],
   "source": [
    "univar_num(taxi1[\"improvement_surcharge\"])"
   ]
  },
  {
   "cell_type": "code",
   "execution_count": 40,
   "id": "c6868b9f",
   "metadata": {},
   "outputs": [],
   "source": [
    "taxi.drop(columns=[\"improvement_surcharge\"],inplace=True)  #removing this as values are constant"
   ]
  },
  {
   "cell_type": "code",
   "execution_count": 41,
   "id": "e1dff3e1",
   "metadata": {},
   "outputs": [
    {
     "data": {
      "text/plain": [
       "{'Missing Value': 0,\n",
       " 'Minimum value': 3.3,\n",
       " 'Maximum value': 6981.3,\n",
       " 'Mean value': 22.45,\n",
       " 'Variance': 2374.85,\n",
       " 'Standard Deviation': 48.73,\n",
       " 'Range': 6978.0,\n",
       " 'Quantile1': 12.36,\n",
       " 'Quantile2': 16.3,\n",
       " 'Quantile3': 23.3,\n",
       " 'Skewness': 123.63,\n",
       " 'kurtosis': 17609.46}"
      ]
     },
     "execution_count": 41,
     "metadata": {},
     "output_type": "execute_result"
    }
   ],
   "source": [
    "univar_num(taxi1[\"total_amount\"])"
   ]
  },
  {
   "cell_type": "code",
   "execution_count": 42,
   "id": "bb9d5b25",
   "metadata": {},
   "outputs": [
    {
     "data": {
      "text/plain": [
       "{'Missing Value': 2658,\n",
       " 'Minimum value': 0.0,\n",
       " 'Maximum value': 2.5,\n",
       " 'Mean value': 2.31,\n",
       " 'Variance': 0.44,\n",
       " 'Standard Deviation': 0.67,\n",
       " 'Range': 2.5,\n",
       " 'Quantile1': 2.5,\n",
       " 'Quantile2': 2.5,\n",
       " 'Quantile3': 2.5,\n",
       " 'Skewness': -3.17,\n",
       " 'kurtosis': 8.08}"
      ]
     },
     "execution_count": 42,
     "metadata": {},
     "output_type": "execute_result"
    }
   ],
   "source": [
    "univar_num(taxi1[\"congestion_surcharge\"])"
   ]
  },
  {
   "cell_type": "code",
   "execution_count": 43,
   "id": "f1b040bd",
   "metadata": {},
   "outputs": [
    {
     "data": {
      "text/plain": [
       "11293      2.5\n",
       "3241804    2.5\n",
       "2122208    2.5\n",
       "645015     2.5\n",
       "1752107    2.5\n",
       "          ... \n",
       "2249467    2.5\n",
       "963395     2.5\n",
       "2215104    2.5\n",
       "1484405    2.5\n",
       "305711     2.5\n",
       "Name: congestion_surcharge, Length: 70637, dtype: float64"
      ]
     },
     "execution_count": 43,
     "metadata": {},
     "output_type": "execute_result"
    }
   ],
   "source": [
    "taxi1[\"congestion_surcharge\"]"
   ]
  },
  {
   "cell_type": "code",
   "execution_count": 44,
   "id": "98eb6b4e",
   "metadata": {},
   "outputs": [
    {
     "data": {
      "text/plain": [
       "{'Missing Value': 2658,\n",
       " 'Minimum value': 0.0,\n",
       " 'Maximum value': 1.25,\n",
       " 'Mean value': 0.1,\n",
       " 'Variance': 0.11,\n",
       " 'Standard Deviation': 0.34,\n",
       " 'Range': 1.25,\n",
       " 'Quantile1': 0.0,\n",
       " 'Quantile2': 0.0,\n",
       " 'Quantile3': 0.0,\n",
       " 'Skewness': 3.15,\n",
       " 'kurtosis': 7.92}"
      ]
     },
     "execution_count": 44,
     "metadata": {},
     "output_type": "execute_result"
    }
   ],
   "source": [
    "univar_num(taxi1[\"airport_fee\"])"
   ]
  },
  {
   "cell_type": "markdown",
   "id": "22bd661f",
   "metadata": {},
   "source": [
    "### Feature Engineering"
   ]
  },
  {
   "cell_type": "code",
   "execution_count": 45,
   "id": "1aadf984",
   "metadata": {},
   "outputs": [
    {
     "data": {
      "text/plain": [
       "Timestamp('2002-10-21 12:53:50')"
      ]
     },
     "execution_count": 45,
     "metadata": {},
     "output_type": "execute_result"
    }
   ],
   "source": [
    "taxi1[\"tpep_pickup_datetime\"].min()"
   ]
  },
  {
   "cell_type": "code",
   "execution_count": 46,
   "id": "9b266bc1",
   "metadata": {},
   "outputs": [
    {
     "data": {
      "text/plain": [
       "Timestamp('2022-07-01 00:36:12')"
      ]
     },
     "execution_count": 46,
     "metadata": {},
     "output_type": "execute_result"
    }
   ],
   "source": [
    "taxi1[\"tpep_pickup_datetime\"].max()"
   ]
  },
  {
   "cell_type": "code",
   "execution_count": 47,
   "id": "78d764fb",
   "metadata": {},
   "outputs": [],
   "source": [
    "# Date: month, weekend/weekday,public_holiday,time of pickup(early morning, morning, afternoon,evening,night,late night)\n",
    "# two date: duration"
   ]
  },
  {
   "cell_type": "code",
   "execution_count": 48,
   "id": "94b9d92c",
   "metadata": {},
   "outputs": [
    {
     "name": "stderr",
     "output_type": "stream",
     "text": [
      "C:\\Users\\riama\\AppData\\Local\\Temp\\ipykernel_7528\\1187736738.py:1: SettingWithCopyWarning: \n",
      "A value is trying to be set on a copy of a slice from a DataFrame.\n",
      "Try using .loc[row_indexer,col_indexer] = value instead\n",
      "\n",
      "See the caveats in the documentation: https://pandas.pydata.org/pandas-docs/stable/user_guide/indexing.html#returning-a-view-versus-a-copy\n",
      "  taxi1[\"month\"]=taxi1[\"tpep_pickup_datetime\"].dt.month\n",
      "C:\\Users\\riama\\AppData\\Local\\Temp\\ipykernel_7528\\1187736738.py:2: SettingWithCopyWarning: \n",
      "A value is trying to be set on a copy of a slice from a DataFrame.\n",
      "Try using .loc[row_indexer,col_indexer] = value instead\n",
      "\n",
      "See the caveats in the documentation: https://pandas.pydata.org/pandas-docs/stable/user_guide/indexing.html#returning-a-view-versus-a-copy\n",
      "  taxi1[\"year\"]=taxi1[\"tpep_pickup_datetime\"].dt.year\n",
      "C:\\Users\\riama\\AppData\\Local\\Temp\\ipykernel_7528\\1187736738.py:3: SettingWithCopyWarning: \n",
      "A value is trying to be set on a copy of a slice from a DataFrame.\n",
      "Try using .loc[row_indexer,col_indexer] = value instead\n",
      "\n",
      "See the caveats in the documentation: https://pandas.pydata.org/pandas-docs/stable/user_guide/indexing.html#returning-a-view-versus-a-copy\n",
      "  taxi1[\"week_of_day\"]=taxi1[\"tpep_pickup_datetime\"].dt.dayofweek\n",
      "C:\\Users\\riama\\AppData\\Local\\Temp\\ipykernel_7528\\1187736738.py:4: SettingWithCopyWarning: \n",
      "A value is trying to be set on a copy of a slice from a DataFrame.\n",
      "Try using .loc[row_indexer,col_indexer] = value instead\n",
      "\n",
      "See the caveats in the documentation: https://pandas.pydata.org/pandas-docs/stable/user_guide/indexing.html#returning-a-view-versus-a-copy\n",
      "  taxi1[\"day\"]=taxi1[\"tpep_pickup_datetime\"].dt.day\n",
      "C:\\Users\\riama\\AppData\\Local\\Temp\\ipykernel_7528\\1187736738.py:5: SettingWithCopyWarning: \n",
      "A value is trying to be set on a copy of a slice from a DataFrame.\n",
      "Try using .loc[row_indexer,col_indexer] = value instead\n",
      "\n",
      "See the caveats in the documentation: https://pandas.pydata.org/pandas-docs/stable/user_guide/indexing.html#returning-a-view-versus-a-copy\n",
      "  taxi1[\"hours\"]=taxi1[\"tpep_pickup_datetime\"].dt.hour\n",
      "C:\\Users\\riama\\AppData\\Local\\Temp\\ipykernel_7528\\1187736738.py:6: SettingWithCopyWarning: \n",
      "A value is trying to be set on a copy of a slice from a DataFrame.\n",
      "Try using .loc[row_indexer,col_indexer] = value instead\n",
      "\n",
      "See the caveats in the documentation: https://pandas.pydata.org/pandas-docs/stable/user_guide/indexing.html#returning-a-view-versus-a-copy\n",
      "  taxi1[\"minutes\"]=taxi1[\"tpep_pickup_datetime\"].dt.minute\n"
     ]
    }
   ],
   "source": [
    "taxi1[\"month\"]=taxi1[\"tpep_pickup_datetime\"].dt.month\n",
    "taxi1[\"year\"]=taxi1[\"tpep_pickup_datetime\"].dt.year\n",
    "taxi1[\"week_of_day\"]=taxi1[\"tpep_pickup_datetime\"].dt.dayofweek\n",
    "taxi1[\"day\"]=taxi1[\"tpep_pickup_datetime\"].dt.day\n",
    "taxi1[\"hours\"]=taxi1[\"tpep_pickup_datetime\"].dt.hour\n",
    "taxi1[\"minutes\"]=taxi1[\"tpep_pickup_datetime\"].dt.minute\n"
   ]
  },
  {
   "cell_type": "code",
   "execution_count": 49,
   "id": "e60c45d2",
   "metadata": {},
   "outputs": [
    {
     "data": {
      "text/plain": [
       "18    5002\n",
       "17    4698\n",
       "19    4608\n",
       "15    4323\n",
       "14    4309\n",
       "16    4248\n",
       "13    3966\n",
       "12    3855\n",
       "21    3792\n",
       "20    3765\n",
       "11    3677\n",
       "22    3587\n",
       "10    3333\n",
       "9     3038\n",
       "23    2869\n",
       "8     2746\n",
       "0     2060\n",
       "7     2041\n",
       "1     1313\n",
       "6     1076\n",
       "2      880\n",
       "3      574\n",
       "5      489\n",
       "4      388\n",
       "Name: hours, dtype: int64"
      ]
     },
     "execution_count": 49,
     "metadata": {},
     "output_type": "execute_result"
    }
   ],
   "source": [
    "taxi1[\"hours\"].value_counts()"
   ]
  },
  {
   "cell_type": "code",
   "execution_count": 50,
   "id": "14109256",
   "metadata": {},
   "outputs": [],
   "source": [
    "taxi1=taxi1[taxi1[\"month\"]==6]\n",
    "taxi1=taxi1[taxi1[\"year\"]==2022]"
   ]
  },
  {
   "cell_type": "code",
   "execution_count": 51,
   "id": "5ec5d594",
   "metadata": {},
   "outputs": [],
   "source": [
    "taxi1[\"isweekend\"]=np.where(taxi1[\"week_of_day\"].isin([5,6]),1,0)\n",
    "#hm yha pr kr rhe haii jha pr week hmara 5,6 hai too vha 1 aajyeega vrna 0"
   ]
  },
  {
   "cell_type": "code",
   "execution_count": 52,
   "id": "f22d0724",
   "metadata": {},
   "outputs": [],
   "source": [
    "def day_cut(x):\n",
    "    if x<=10:\n",
    "        return \"starting_of_month\"\n",
    "    elif x>10 and x<=20:\n",
    "        return \"mid_of_month\"\n",
    "    else:\n",
    "        return \"end_of_month\""
   ]
  },
  {
   "cell_type": "code",
   "execution_count": 53,
   "id": "7d050b2a",
   "metadata": {},
   "outputs": [],
   "source": [
    "taxi1[\"day_cut\"]=taxi1[\"day\"].apply(day_cut)"
   ]
  },
  {
   "cell_type": "code",
   "execution_count": 54,
   "id": "14e071f2",
   "metadata": {},
   "outputs": [
    {
     "data": {
      "text/plain": [
       "starting_of_month    24393\n",
       "mid_of_month         23261\n",
       "end_of_month         22973\n",
       "Name: day_cut, dtype: int64"
      ]
     },
     "execution_count": 54,
     "metadata": {},
     "output_type": "execute_result"
    }
   ],
   "source": [
    "taxi1[\"day_cut\"].value_counts()"
   ]
  },
  {
   "cell_type": "code",
   "execution_count": 55,
   "id": "4fa59c21",
   "metadata": {},
   "outputs": [],
   "source": [
    "# early morning: 4-8 \n",
    "# morning= 8-12\n",
    "# afternoon: 12-4 (12-16)\n",
    "# evening: 4-8  (16-20)\n",
    "# night: 8-12   (20-24)\n",
    "# midnight: 12-4"
   ]
  },
  {
   "cell_type": "code",
   "execution_count": 56,
   "id": "b28eddc0",
   "metadata": {},
   "outputs": [],
   "source": [
    "def hour_category(x):\n",
    "    if x>=4 and x<8:\n",
    "        return \"early_morning\"\n",
    "    elif x>=8 and x<12:\n",
    "        return \"morning\"\n",
    "    elif x>=12 and x<16:\n",
    "        return \"afternoon\"\n",
    "    elif x>=16 and x<20:\n",
    "        return \"evening\"\n",
    "    elif x>=20 and x<24:\n",
    "        return \"night\"\n",
    "    elif x>=0 and x<4:\n",
    "        return \"midnight\"\n",
    "    else:\n",
    "        return \"unknown\""
   ]
  },
  {
   "cell_type": "code",
   "execution_count": 57,
   "id": "287ea842",
   "metadata": {},
   "outputs": [],
   "source": [
    "taxi1[\"hours_cat\"]=taxi1[\"hours\"].apply(hour_category)"
   ]
  },
  {
   "cell_type": "code",
   "execution_count": 58,
   "id": "9d83bfcd",
   "metadata": {},
   "outputs": [
    {
     "data": {
      "text/plain": [
       "evening          18554\n",
       "afternoon        16450\n",
       "night            14011\n",
       "morning          12794\n",
       "midnight          4824\n",
       "early_morning     3994\n",
       "Name: hours_cat, dtype: int64"
      ]
     },
     "execution_count": 58,
     "metadata": {},
     "output_type": "execute_result"
    }
   ],
   "source": [
    "taxi1[\"hours_cat\"].value_counts()"
   ]
  },
  {
   "cell_type": "code",
   "execution_count": 59,
   "id": "42b83ff7",
   "metadata": {},
   "outputs": [],
   "source": [
    "taxi1[\"duration\"]=((taxi1[\"tpep_dropoff_datetime\"]-taxi1[\"tpep_pickup_datetime\"])/pd.Timedelta(minutes=1)) #kitni duration liya hai "
   ]
  },
  {
   "cell_type": "code",
   "execution_count": 60,
   "id": "683ad642",
   "metadata": {},
   "outputs": [
    {
     "data": {
      "text/plain": [
       "-0.85"
      ]
     },
     "execution_count": 60,
     "metadata": {},
     "output_type": "execute_result"
    }
   ],
   "source": [
    "taxi1[\"duration\"].min()"
   ]
  },
  {
   "cell_type": "code",
   "execution_count": 61,
   "id": "9a94fbba",
   "metadata": {},
   "outputs": [],
   "source": [
    "taxi1[\"airport_pick_up\"]=np.where(taxi1[\"airport_fee\"]==0,0,1)"
   ]
  },
  {
   "cell_type": "code",
   "execution_count": 62,
   "id": "169571c5",
   "metadata": {},
   "outputs": [
    {
     "data": {
      "text/html": [
       "<div>\n",
       "<style scoped>\n",
       "    .dataframe tbody tr th:only-of-type {\n",
       "        vertical-align: middle;\n",
       "    }\n",
       "\n",
       "    .dataframe tbody tr th {\n",
       "        vertical-align: top;\n",
       "    }\n",
       "\n",
       "    .dataframe thead th {\n",
       "        text-align: right;\n",
       "    }\n",
       "</style>\n",
       "<table border=\"1\" class=\"dataframe\">\n",
       "  <thead>\n",
       "    <tr style=\"text-align: right;\">\n",
       "      <th></th>\n",
       "      <th>VendorID</th>\n",
       "      <th>tpep_pickup_datetime</th>\n",
       "      <th>tpep_dropoff_datetime</th>\n",
       "      <th>passenger_count</th>\n",
       "      <th>trip_distance</th>\n",
       "      <th>RatecodeID</th>\n",
       "      <th>store_and_fwd_flag</th>\n",
       "      <th>payment_type</th>\n",
       "      <th>fare_amount</th>\n",
       "      <th>extra</th>\n",
       "      <th>...</th>\n",
       "      <th>year</th>\n",
       "      <th>week_of_day</th>\n",
       "      <th>day</th>\n",
       "      <th>hours</th>\n",
       "      <th>minutes</th>\n",
       "      <th>isweekend</th>\n",
       "      <th>day_cut</th>\n",
       "      <th>hours_cat</th>\n",
       "      <th>duration</th>\n",
       "      <th>airport_pick_up</th>\n",
       "    </tr>\n",
       "  </thead>\n",
       "  <tbody>\n",
       "    <tr>\n",
       "      <th>11293</th>\n",
       "      <td>2</td>\n",
       "      <td>2022-06-01 08:48:20</td>\n",
       "      <td>2022-06-01 09:00:30</td>\n",
       "      <td>1.0</td>\n",
       "      <td>1.75</td>\n",
       "      <td>Standard_rate</td>\n",
       "      <td>N</td>\n",
       "      <td>Credit_card</td>\n",
       "      <td>9.5</td>\n",
       "      <td>0.0</td>\n",
       "      <td>...</td>\n",
       "      <td>2022</td>\n",
       "      <td>2</td>\n",
       "      <td>1</td>\n",
       "      <td>8</td>\n",
       "      <td>48</td>\n",
       "      <td>0</td>\n",
       "      <td>starting_of_month</td>\n",
       "      <td>morning</td>\n",
       "      <td>12.166667</td>\n",
       "      <td>0</td>\n",
       "    </tr>\n",
       "    <tr>\n",
       "      <th>3241804</th>\n",
       "      <td>2</td>\n",
       "      <td>2022-06-29 12:30:59</td>\n",
       "      <td>2022-06-29 13:20:10</td>\n",
       "      <td>1.0</td>\n",
       "      <td>9.16</td>\n",
       "      <td>Standard_rate</td>\n",
       "      <td>N</td>\n",
       "      <td>Cash</td>\n",
       "      <td>36.0</td>\n",
       "      <td>0.0</td>\n",
       "      <td>...</td>\n",
       "      <td>2022</td>\n",
       "      <td>2</td>\n",
       "      <td>29</td>\n",
       "      <td>12</td>\n",
       "      <td>30</td>\n",
       "      <td>0</td>\n",
       "      <td>end_of_month</td>\n",
       "      <td>afternoon</td>\n",
       "      <td>49.183333</td>\n",
       "      <td>0</td>\n",
       "    </tr>\n",
       "    <tr>\n",
       "      <th>2122208</th>\n",
       "      <td>1</td>\n",
       "      <td>2022-06-19 01:03:50</td>\n",
       "      <td>2022-06-19 01:27:44</td>\n",
       "      <td>1.0</td>\n",
       "      <td>5.00</td>\n",
       "      <td>Standard_rate</td>\n",
       "      <td>N</td>\n",
       "      <td>Credit_card</td>\n",
       "      <td>20.0</td>\n",
       "      <td>3.0</td>\n",
       "      <td>...</td>\n",
       "      <td>2022</td>\n",
       "      <td>6</td>\n",
       "      <td>19</td>\n",
       "      <td>1</td>\n",
       "      <td>3</td>\n",
       "      <td>1</td>\n",
       "      <td>mid_of_month</td>\n",
       "      <td>midnight</td>\n",
       "      <td>23.900000</td>\n",
       "      <td>0</td>\n",
       "    </tr>\n",
       "    <tr>\n",
       "      <th>645015</th>\n",
       "      <td>2</td>\n",
       "      <td>2022-06-06 17:16:57</td>\n",
       "      <td>2022-06-06 17:35:51</td>\n",
       "      <td>1.0</td>\n",
       "      <td>3.02</td>\n",
       "      <td>Standard_rate</td>\n",
       "      <td>N</td>\n",
       "      <td>Credit_card</td>\n",
       "      <td>13.5</td>\n",
       "      <td>1.0</td>\n",
       "      <td>...</td>\n",
       "      <td>2022</td>\n",
       "      <td>0</td>\n",
       "      <td>6</td>\n",
       "      <td>17</td>\n",
       "      <td>16</td>\n",
       "      <td>0</td>\n",
       "      <td>starting_of_month</td>\n",
       "      <td>evening</td>\n",
       "      <td>18.900000</td>\n",
       "      <td>0</td>\n",
       "    </tr>\n",
       "    <tr>\n",
       "      <th>1752107</th>\n",
       "      <td>2</td>\n",
       "      <td>2022-06-15 22:09:34</td>\n",
       "      <td>2022-06-15 22:28:03</td>\n",
       "      <td>1.0</td>\n",
       "      <td>3.53</td>\n",
       "      <td>Standard_rate</td>\n",
       "      <td>N</td>\n",
       "      <td>Credit_card</td>\n",
       "      <td>14.5</td>\n",
       "      <td>0.5</td>\n",
       "      <td>...</td>\n",
       "      <td>2022</td>\n",
       "      <td>2</td>\n",
       "      <td>15</td>\n",
       "      <td>22</td>\n",
       "      <td>9</td>\n",
       "      <td>0</td>\n",
       "      <td>mid_of_month</td>\n",
       "      <td>night</td>\n",
       "      <td>18.483333</td>\n",
       "      <td>0</td>\n",
       "    </tr>\n",
       "  </tbody>\n",
       "</table>\n",
       "<p>5 rows × 28 columns</p>\n",
       "</div>"
      ],
      "text/plain": [
       "        VendorID tpep_pickup_datetime tpep_dropoff_datetime  passenger_count  \\\n",
       "11293          2  2022-06-01 08:48:20   2022-06-01 09:00:30              1.0   \n",
       "3241804        2  2022-06-29 12:30:59   2022-06-29 13:20:10              1.0   \n",
       "2122208        1  2022-06-19 01:03:50   2022-06-19 01:27:44              1.0   \n",
       "645015         2  2022-06-06 17:16:57   2022-06-06 17:35:51              1.0   \n",
       "1752107        2  2022-06-15 22:09:34   2022-06-15 22:28:03              1.0   \n",
       "\n",
       "         trip_distance     RatecodeID store_and_fwd_flag payment_type  \\\n",
       "11293             1.75  Standard_rate                  N  Credit_card   \n",
       "3241804           9.16  Standard_rate                  N         Cash   \n",
       "2122208           5.00  Standard_rate                  N  Credit_card   \n",
       "645015            3.02  Standard_rate                  N  Credit_card   \n",
       "1752107           3.53  Standard_rate                  N  Credit_card   \n",
       "\n",
       "         fare_amount  extra  ...  year  week_of_day  day  hours  minutes  \\\n",
       "11293            9.5    0.0  ...  2022            2    1      8       48   \n",
       "3241804         36.0    0.0  ...  2022            2   29     12       30   \n",
       "2122208         20.0    3.0  ...  2022            6   19      1        3   \n",
       "645015          13.5    1.0  ...  2022            0    6     17       16   \n",
       "1752107         14.5    0.5  ...  2022            2   15     22        9   \n",
       "\n",
       "         isweekend            day_cut  hours_cat   duration  airport_pick_up  \n",
       "11293            0  starting_of_month    morning  12.166667                0  \n",
       "3241804          0       end_of_month  afternoon  49.183333                0  \n",
       "2122208          1       mid_of_month   midnight  23.900000                0  \n",
       "645015           0  starting_of_month    evening  18.900000                0  \n",
       "1752107          0       mid_of_month      night  18.483333                0  \n",
       "\n",
       "[5 rows x 28 columns]"
      ]
     },
     "execution_count": 62,
     "metadata": {},
     "output_type": "execute_result"
    }
   ],
   "source": [
    "taxi1.head()"
   ]
  },
  {
   "cell_type": "code",
   "execution_count": 63,
   "id": "bba6862d",
   "metadata": {},
   "outputs": [
    {
     "data": {
      "text/plain": [
       "Index(['VendorID', 'tpep_pickup_datetime', 'tpep_dropoff_datetime',\n",
       "       'passenger_count', 'trip_distance', 'RatecodeID', 'store_and_fwd_flag',\n",
       "       'payment_type', 'fare_amount', 'extra', 'mta_tax', 'tip_amount',\n",
       "       'tolls_amount', 'improvement_surcharge', 'total_amount',\n",
       "       'congestion_surcharge', 'airport_fee', 'month', 'year', 'week_of_day',\n",
       "       'day', 'hours', 'minutes', 'isweekend', 'day_cut', 'hours_cat',\n",
       "       'duration', 'airport_pick_up'],\n",
       "      dtype='object')"
      ]
     },
     "execution_count": 63,
     "metadata": {},
     "output_type": "execute_result"
    }
   ],
   "source": [
    "taxi1.columns"
   ]
  },
  {
   "cell_type": "code",
   "execution_count": 64,
   "id": "6f46f49b",
   "metadata": {},
   "outputs": [],
   "source": [
    "def fare_cut(x): #question tha ki kitni range of money mai sbse jyada book ho rhi thi cars \n",
    "    if x<=10:\n",
    "        return \"(0,10]\"\n",
    "    elif x>10 and x<=20:\n",
    "        return \"(10-20]\"\n",
    "    elif x>20 and x<=30:\n",
    "        return \"(20-30]\"\n",
    "    elif x>30 and x<=40:\n",
    "        return \"(30-40]\"\n",
    "    elif x>40 and x<=50:\n",
    "        return \"(40-50]\"\n",
    "    elif x>50 and x<=60:\n",
    "        return \"(50-60]\"\n",
    "    elif x>60 and x<=70:\n",
    "        return \"(60-70]\"\n",
    "    elif x>70 and x<=80:\n",
    "        return \"(70-80]\"\n",
    "    elif x>80 and x<=90:\n",
    "        return \"(80-90]\"\n",
    "    elif x>90 and x<=100:\n",
    "        return \"(90-100]\"\n",
    "    else:\n",
    "        return \"100+\"\n",
    "taxi1[\"fare_cat\"]=taxi1[\"total_amount\"].apply(fare_cut)"
   ]
  },
  {
   "cell_type": "code",
   "execution_count": 65,
   "id": "4d53fbbd",
   "metadata": {},
   "outputs": [
    {
     "data": {
      "text/plain": [
       "<AxesSubplot:>"
      ]
     },
     "execution_count": 65,
     "metadata": {},
     "output_type": "execute_result"
    },
    {
     "data": {
      "image/png": "[encoded data removed]",
      "text/plain": [
       "<Figure size 432x288 with 1 Axes>"
      ]
     },
     "metadata": {
      "needs_background": "light"
     },
     "output_type": "display_data"
    }
   ],
   "source": [
    "taxi1[\"fare_cat\"].value_counts().plot(kind=\"bar\")"
   ]
  },
  {
   "cell_type": "code",
   "execution_count": 66,
   "id": "1cab6d41",
   "metadata": {},
   "outputs": [
    {
     "data": {
      "text/plain": [
       "10.80     1028\n",
       "11.80      978\n",
       "12.36      969\n",
       "10.30      965\n",
       "12.80      963\n",
       "          ... \n",
       "75.86        1\n",
       "205.55       1\n",
       "24.22        1\n",
       "42.19        1\n",
       "85.10        1\n",
       "Name: total_amount, Length: 3937, dtype: int64"
      ]
     },
     "execution_count": 66,
     "metadata": {},
     "output_type": "execute_result"
    }
   ],
   "source": [
    "taxi1[\"total_amount\"].value_counts()"
   ]
  },
  {
   "cell_type": "code",
   "execution_count": 67,
   "id": "c6e27f5e",
   "metadata": {},
   "outputs": [],
   "source": [
    "def duration_cat(x):\n",
    "    if x<15:\n",
    "        return \"duration_bt_0_15m\"\n",
    "    elif x>=15 and x<30:\n",
    "        return \"duration_bt_0_30m\"\n",
    "    elif x>=30 and x<60:\n",
    "        return \"duration_bt_30_60m\"\n",
    "    elif x>=60 and x<120:\n",
    "        return \"duration_bt_60_120m\"\n",
    "    else:\n",
    "        return \"duration_morethan_120m\""
   ]
  },
  {
   "cell_type": "code",
   "execution_count": 68,
   "id": "208b6faf",
   "metadata": {},
   "outputs": [],
   "source": [
    "taxi1[\"duration_cat\"]=taxi1[\"duration\"].apply(duration_cat)"
   ]
  },
  {
   "cell_type": "code",
   "execution_count": 69,
   "id": "80fedbac",
   "metadata": {},
   "outputs": [
    {
     "data": {
      "text/plain": [
       "<AxesSubplot:>"
      ]
     },
     "execution_count": 69,
     "metadata": {},
     "output_type": "execute_result"
    },
    {
     "data": {
      "image/png": "[encoded data removed]",
      "text/plain": [
       "<Figure size 432x288 with 1 Axes>"
      ]
     },
     "metadata": {
      "needs_background": "light"
     },
     "output_type": "display_data"
    }
   ],
   "source": [
    "taxi1[\"duration_cat\"].value_counts().plot(kind=\"bar\")"
   ]
  },
  {
   "cell_type": "markdown",
   "id": "5b289357",
   "metadata": {},
   "source": [
    "#### Missing value"
   ]
  },
  {
   "cell_type": "code",
   "execution_count": 70,
   "id": "8ac5eb66",
   "metadata": {},
   "outputs": [
    {
     "data": {
      "text/plain": [
       "VendorID                    0\n",
       "tpep_pickup_datetime        0\n",
       "tpep_dropoff_datetime       0\n",
       "passenger_count          2658\n",
       "trip_distance               0\n",
       "RatecodeID                  0\n",
       "store_and_fwd_flag          0\n",
       "payment_type                0\n",
       "fare_amount                 0\n",
       "extra                       0\n",
       "mta_tax                     0\n",
       "tip_amount                  0\n",
       "tolls_amount                0\n",
       "improvement_surcharge       0\n",
       "total_amount                0\n",
       "congestion_surcharge     2658\n",
       "airport_fee              2658\n",
       "month                       0\n",
       "year                        0\n",
       "week_of_day                 0\n",
       "day                         0\n",
       "hours                       0\n",
       "minutes                     0\n",
       "isweekend                   0\n",
       "day_cut                     0\n",
       "hours_cat                   0\n",
       "duration                    0\n",
       "airport_pick_up             0\n",
       "fare_cat                    0\n",
       "duration_cat                0\n",
       "dtype: int64"
      ]
     },
     "execution_count": 70,
     "metadata": {},
     "output_type": "execute_result"
    }
   ],
   "source": [
    "taxi1.isnull().sum()"
   ]
  },
  {
   "cell_type": "code",
   "execution_count": 71,
   "id": "57d90d85",
   "metadata": {},
   "outputs": [],
   "source": [
    "temp0=taxi1[taxi1[\"passenger_count\"].isnull()]"
   ]
  },
  {
   "cell_type": "code",
   "execution_count": 72,
   "id": "82ac26b9",
   "metadata": {},
   "outputs": [],
   "source": [
    "taxi2=taxi1.dropna()"
   ]
  },
  {
   "cell_type": "code",
   "execution_count": 73,
   "id": "c7f4fa7f",
   "metadata": {},
   "outputs": [
    {
     "data": {
      "text/plain": [
       "VendorID                 0\n",
       "tpep_pickup_datetime     0\n",
       "tpep_dropoff_datetime    0\n",
       "passenger_count          0\n",
       "trip_distance            0\n",
       "RatecodeID               0\n",
       "store_and_fwd_flag       0\n",
       "payment_type             0\n",
       "fare_amount              0\n",
       "extra                    0\n",
       "mta_tax                  0\n",
       "tip_amount               0\n",
       "tolls_amount             0\n",
       "improvement_surcharge    0\n",
       "total_amount             0\n",
       "congestion_surcharge     0\n",
       "airport_fee              0\n",
       "month                    0\n",
       "year                     0\n",
       "week_of_day              0\n",
       "day                      0\n",
       "hours                    0\n",
       "minutes                  0\n",
       "isweekend                0\n",
       "day_cut                  0\n",
       "hours_cat                0\n",
       "duration                 0\n",
       "airport_pick_up          0\n",
       "fare_cat                 0\n",
       "duration_cat             0\n",
       "dtype: int64"
      ]
     },
     "execution_count": 73,
     "metadata": {},
     "output_type": "execute_result"
    }
   ],
   "source": [
    "taxi2.isnull().sum()"
   ]
  },
  {
   "cell_type": "markdown",
   "id": "2b9be54b",
   "metadata": {},
   "source": [
    "#### Outliers Treatment"
   ]
  },
  {
   "cell_type": "code",
   "execution_count": 74,
   "id": "f9e16aca",
   "metadata": {},
   "outputs": [
    {
     "data": {
      "text/html": [
       "<div>\n",
       "<style scoped>\n",
       "    .dataframe tbody tr th:only-of-type {\n",
       "        vertical-align: middle;\n",
       "    }\n",
       "\n",
       "    .dataframe tbody tr th {\n",
       "        vertical-align: top;\n",
       "    }\n",
       "\n",
       "    .dataframe thead th {\n",
       "        text-align: right;\n",
       "    }\n",
       "</style>\n",
       "<table border=\"1\" class=\"dataframe\">\n",
       "  <thead>\n",
       "    <tr style=\"text-align: right;\">\n",
       "      <th></th>\n",
       "      <th>count</th>\n",
       "      <th>mean</th>\n",
       "      <th>std</th>\n",
       "      <th>min</th>\n",
       "      <th>1%</th>\n",
       "      <th>2%</th>\n",
       "      <th>3%</th>\n",
       "      <th>4%</th>\n",
       "      <th>5%</th>\n",
       "      <th>25%</th>\n",
       "      <th>50%</th>\n",
       "      <th>75%</th>\n",
       "      <th>90%</th>\n",
       "      <th>95%</th>\n",
       "      <th>96%</th>\n",
       "      <th>97%</th>\n",
       "      <th>98%</th>\n",
       "      <th>99%</th>\n",
       "      <th>max</th>\n",
       "    </tr>\n",
       "  </thead>\n",
       "  <tbody>\n",
       "    <tr>\n",
       "      <th>passenger_count</th>\n",
       "      <td>67969.0</td>\n",
       "      <td>1.398682</td>\n",
       "      <td>0.959825</td>\n",
       "      <td>0.0</td>\n",
       "      <td>0.000000</td>\n",
       "      <td>1.000000</td>\n",
       "      <td>1.0</td>\n",
       "      <td>1.000000</td>\n",
       "      <td>1.000000</td>\n",
       "      <td>1.000000</td>\n",
       "      <td>1.000000</td>\n",
       "      <td>1.00</td>\n",
       "      <td>2.00</td>\n",
       "      <td>3.000000</td>\n",
       "      <td>4.0000</td>\n",
       "      <td>4.000000</td>\n",
       "      <td>5.000000</td>\n",
       "      <td>6.000</td>\n",
       "      <td>6.000000</td>\n",
       "    </tr>\n",
       "    <tr>\n",
       "      <th>trip_distance</th>\n",
       "      <td>67969.0</td>\n",
       "      <td>3.541137</td>\n",
       "      <td>4.782556</td>\n",
       "      <td>0.0</td>\n",
       "      <td>0.000000</td>\n",
       "      <td>0.250000</td>\n",
       "      <td>0.4</td>\n",
       "      <td>0.470000</td>\n",
       "      <td>0.510000</td>\n",
       "      <td>1.130000</td>\n",
       "      <td>1.900000</td>\n",
       "      <td>3.55</td>\n",
       "      <td>9.02</td>\n",
       "      <td>15.496000</td>\n",
       "      <td>17.0928</td>\n",
       "      <td>17.879600</td>\n",
       "      <td>18.680000</td>\n",
       "      <td>20.260</td>\n",
       "      <td>410.170000</td>\n",
       "    </tr>\n",
       "    <tr>\n",
       "      <th>fare_amount</th>\n",
       "      <td>67969.0</td>\n",
       "      <td>15.271000</td>\n",
       "      <td>48.398615</td>\n",
       "      <td>2.5</td>\n",
       "      <td>3.500000</td>\n",
       "      <td>4.000000</td>\n",
       "      <td>4.0</td>\n",
       "      <td>4.500000</td>\n",
       "      <td>4.500000</td>\n",
       "      <td>7.000000</td>\n",
       "      <td>10.500000</td>\n",
       "      <td>16.50</td>\n",
       "      <td>31.20</td>\n",
       "      <td>52.000000</td>\n",
       "      <td>52.0000</td>\n",
       "      <td>52.000000</td>\n",
       "      <td>52.000000</td>\n",
       "      <td>62.500</td>\n",
       "      <td>6977.000000</td>\n",
       "    </tr>\n",
       "    <tr>\n",
       "      <th>extra</th>\n",
       "      <td>67969.0</td>\n",
       "      <td>1.069702</td>\n",
       "      <td>1.263564</td>\n",
       "      <td>0.0</td>\n",
       "      <td>0.000000</td>\n",
       "      <td>0.000000</td>\n",
       "      <td>0.0</td>\n",
       "      <td>0.000000</td>\n",
       "      <td>0.000000</td>\n",
       "      <td>0.000000</td>\n",
       "      <td>0.500000</td>\n",
       "      <td>2.50</td>\n",
       "      <td>3.00</td>\n",
       "      <td>3.500000</td>\n",
       "      <td>3.5000</td>\n",
       "      <td>3.500000</td>\n",
       "      <td>3.500000</td>\n",
       "      <td>3.750</td>\n",
       "      <td>8.250000</td>\n",
       "    </tr>\n",
       "    <tr>\n",
       "      <th>mta_tax</th>\n",
       "      <td>67969.0</td>\n",
       "      <td>0.494910</td>\n",
       "      <td>0.052014</td>\n",
       "      <td>0.0</td>\n",
       "      <td>0.000000</td>\n",
       "      <td>0.500000</td>\n",
       "      <td>0.5</td>\n",
       "      <td>0.500000</td>\n",
       "      <td>0.500000</td>\n",
       "      <td>0.500000</td>\n",
       "      <td>0.500000</td>\n",
       "      <td>0.50</td>\n",
       "      <td>0.50</td>\n",
       "      <td>0.500000</td>\n",
       "      <td>0.5000</td>\n",
       "      <td>0.500000</td>\n",
       "      <td>0.500000</td>\n",
       "      <td>0.500</td>\n",
       "      <td>2.780000</td>\n",
       "    </tr>\n",
       "    <tr>\n",
       "      <th>tip_amount</th>\n",
       "      <td>67969.0</td>\n",
       "      <td>2.765738</td>\n",
       "      <td>3.209275</td>\n",
       "      <td>0.0</td>\n",
       "      <td>0.000000</td>\n",
       "      <td>0.000000</td>\n",
       "      <td>0.0</td>\n",
       "      <td>0.000000</td>\n",
       "      <td>0.000000</td>\n",
       "      <td>1.000000</td>\n",
       "      <td>2.160000</td>\n",
       "      <td>3.36</td>\n",
       "      <td>5.66</td>\n",
       "      <td>9.550000</td>\n",
       "      <td>10.2700</td>\n",
       "      <td>11.960000</td>\n",
       "      <td>12.620000</td>\n",
       "      <td>15.000</td>\n",
       "      <td>98.000000</td>\n",
       "    </tr>\n",
       "    <tr>\n",
       "      <th>tolls_amount</th>\n",
       "      <td>67969.0</td>\n",
       "      <td>0.562375</td>\n",
       "      <td>2.062867</td>\n",
       "      <td>0.0</td>\n",
       "      <td>0.000000</td>\n",
       "      <td>0.000000</td>\n",
       "      <td>0.0</td>\n",
       "      <td>0.000000</td>\n",
       "      <td>0.000000</td>\n",
       "      <td>0.000000</td>\n",
       "      <td>0.000000</td>\n",
       "      <td>0.00</td>\n",
       "      <td>0.00</td>\n",
       "      <td>6.550000</td>\n",
       "      <td>6.5500</td>\n",
       "      <td>6.550000</td>\n",
       "      <td>6.550000</td>\n",
       "      <td>6.550</td>\n",
       "      <td>52.000000</td>\n",
       "    </tr>\n",
       "    <tr>\n",
       "      <th>improvement_surcharge</th>\n",
       "      <td>67969.0</td>\n",
       "      <td>0.299947</td>\n",
       "      <td>0.003986</td>\n",
       "      <td>0.0</td>\n",
       "      <td>0.300000</td>\n",
       "      <td>0.300000</td>\n",
       "      <td>0.3</td>\n",
       "      <td>0.300000</td>\n",
       "      <td>0.300000</td>\n",
       "      <td>0.300000</td>\n",
       "      <td>0.300000</td>\n",
       "      <td>0.30</td>\n",
       "      <td>0.30</td>\n",
       "      <td>0.300000</td>\n",
       "      <td>0.3000</td>\n",
       "      <td>0.300000</td>\n",
       "      <td>0.300000</td>\n",
       "      <td>0.300</td>\n",
       "      <td>0.300000</td>\n",
       "    </tr>\n",
       "    <tr>\n",
       "      <th>total_amount</th>\n",
       "      <td>67969.0</td>\n",
       "      <td>22.169266</td>\n",
       "      <td>49.525152</td>\n",
       "      <td>3.3</td>\n",
       "      <td>6.800000</td>\n",
       "      <td>7.800000</td>\n",
       "      <td>8.3</td>\n",
       "      <td>8.760000</td>\n",
       "      <td>8.800000</td>\n",
       "      <td>12.350000</td>\n",
       "      <td>15.960000</td>\n",
       "      <td>22.88</td>\n",
       "      <td>43.35</td>\n",
       "      <td>63.100000</td>\n",
       "      <td>67.8528</td>\n",
       "      <td>73.100000</td>\n",
       "      <td>75.720000</td>\n",
       "      <td>81.120</td>\n",
       "      <td>6981.300000</td>\n",
       "    </tr>\n",
       "    <tr>\n",
       "      <th>congestion_surcharge</th>\n",
       "      <td>67969.0</td>\n",
       "      <td>2.307670</td>\n",
       "      <td>0.666214</td>\n",
       "      <td>0.0</td>\n",
       "      <td>0.000000</td>\n",
       "      <td>0.000000</td>\n",
       "      <td>0.0</td>\n",
       "      <td>0.000000</td>\n",
       "      <td>0.000000</td>\n",
       "      <td>2.500000</td>\n",
       "      <td>2.500000</td>\n",
       "      <td>2.50</td>\n",
       "      <td>2.50</td>\n",
       "      <td>2.500000</td>\n",
       "      <td>2.5000</td>\n",
       "      <td>2.500000</td>\n",
       "      <td>2.500000</td>\n",
       "      <td>2.500</td>\n",
       "      <td>2.500000</td>\n",
       "    </tr>\n",
       "    <tr>\n",
       "      <th>airport_fee</th>\n",
       "      <td>67969.0</td>\n",
       "      <td>0.097361</td>\n",
       "      <td>0.334997</td>\n",
       "      <td>0.0</td>\n",
       "      <td>0.000000</td>\n",
       "      <td>0.000000</td>\n",
       "      <td>0.0</td>\n",
       "      <td>0.000000</td>\n",
       "      <td>0.000000</td>\n",
       "      <td>0.000000</td>\n",
       "      <td>0.000000</td>\n",
       "      <td>0.00</td>\n",
       "      <td>0.00</td>\n",
       "      <td>1.250000</td>\n",
       "      <td>1.2500</td>\n",
       "      <td>1.250000</td>\n",
       "      <td>1.250000</td>\n",
       "      <td>1.250</td>\n",
       "      <td>1.250000</td>\n",
       "    </tr>\n",
       "    <tr>\n",
       "      <th>month</th>\n",
       "      <td>67969.0</td>\n",
       "      <td>6.000000</td>\n",
       "      <td>0.000000</td>\n",
       "      <td>6.0</td>\n",
       "      <td>6.000000</td>\n",
       "      <td>6.000000</td>\n",
       "      <td>6.0</td>\n",
       "      <td>6.000000</td>\n",
       "      <td>6.000000</td>\n",
       "      <td>6.000000</td>\n",
       "      <td>6.000000</td>\n",
       "      <td>6.00</td>\n",
       "      <td>6.00</td>\n",
       "      <td>6.000000</td>\n",
       "      <td>6.0000</td>\n",
       "      <td>6.000000</td>\n",
       "      <td>6.000000</td>\n",
       "      <td>6.000</td>\n",
       "      <td>6.000000</td>\n",
       "    </tr>\n",
       "    <tr>\n",
       "      <th>year</th>\n",
       "      <td>67969.0</td>\n",
       "      <td>2022.000000</td>\n",
       "      <td>0.000000</td>\n",
       "      <td>2022.0</td>\n",
       "      <td>2022.000000</td>\n",
       "      <td>2022.000000</td>\n",
       "      <td>2022.0</td>\n",
       "      <td>2022.000000</td>\n",
       "      <td>2022.000000</td>\n",
       "      <td>2022.000000</td>\n",
       "      <td>2022.000000</td>\n",
       "      <td>2022.00</td>\n",
       "      <td>2022.00</td>\n",
       "      <td>2022.000000</td>\n",
       "      <td>2022.0000</td>\n",
       "      <td>2022.000000</td>\n",
       "      <td>2022.000000</td>\n",
       "      <td>2022.000</td>\n",
       "      <td>2022.000000</td>\n",
       "    </tr>\n",
       "    <tr>\n",
       "      <th>week_of_day</th>\n",
       "      <td>67969.0</td>\n",
       "      <td>2.936912</td>\n",
       "      <td>1.863506</td>\n",
       "      <td>0.0</td>\n",
       "      <td>0.000000</td>\n",
       "      <td>0.000000</td>\n",
       "      <td>0.0</td>\n",
       "      <td>0.000000</td>\n",
       "      <td>0.000000</td>\n",
       "      <td>1.000000</td>\n",
       "      <td>3.000000</td>\n",
       "      <td>4.00</td>\n",
       "      <td>6.00</td>\n",
       "      <td>6.000000</td>\n",
       "      <td>6.0000</td>\n",
       "      <td>6.000000</td>\n",
       "      <td>6.000000</td>\n",
       "      <td>6.000</td>\n",
       "      <td>6.000000</td>\n",
       "    </tr>\n",
       "    <tr>\n",
       "      <th>day</th>\n",
       "      <td>67969.0</td>\n",
       "      <td>15.241846</td>\n",
       "      <td>8.632825</td>\n",
       "      <td>1.0</td>\n",
       "      <td>1.000000</td>\n",
       "      <td>1.000000</td>\n",
       "      <td>1.0</td>\n",
       "      <td>2.000000</td>\n",
       "      <td>2.000000</td>\n",
       "      <td>8.000000</td>\n",
       "      <td>15.000000</td>\n",
       "      <td>23.00</td>\n",
       "      <td>27.00</td>\n",
       "      <td>29.000000</td>\n",
       "      <td>29.0000</td>\n",
       "      <td>30.000000</td>\n",
       "      <td>30.000000</td>\n",
       "      <td>30.000</td>\n",
       "      <td>30.000000</td>\n",
       "    </tr>\n",
       "    <tr>\n",
       "      <th>hours</th>\n",
       "      <td>67969.0</td>\n",
       "      <td>14.199194</td>\n",
       "      <td>5.788724</td>\n",
       "      <td>0.0</td>\n",
       "      <td>0.000000</td>\n",
       "      <td>0.000000</td>\n",
       "      <td>1.0</td>\n",
       "      <td>1.000000</td>\n",
       "      <td>2.000000</td>\n",
       "      <td>10.000000</td>\n",
       "      <td>15.000000</td>\n",
       "      <td>19.00</td>\n",
       "      <td>21.00</td>\n",
       "      <td>22.000000</td>\n",
       "      <td>23.0000</td>\n",
       "      <td>23.000000</td>\n",
       "      <td>23.000000</td>\n",
       "      <td>23.000</td>\n",
       "      <td>23.000000</td>\n",
       "    </tr>\n",
       "    <tr>\n",
       "      <th>minutes</th>\n",
       "      <td>67969.0</td>\n",
       "      <td>29.617973</td>\n",
       "      <td>17.318711</td>\n",
       "      <td>0.0</td>\n",
       "      <td>0.000000</td>\n",
       "      <td>1.000000</td>\n",
       "      <td>1.0</td>\n",
       "      <td>2.000000</td>\n",
       "      <td>3.000000</td>\n",
       "      <td>15.000000</td>\n",
       "      <td>30.000000</td>\n",
       "      <td>45.00</td>\n",
       "      <td>54.00</td>\n",
       "      <td>56.000000</td>\n",
       "      <td>57.0000</td>\n",
       "      <td>58.000000</td>\n",
       "      <td>58.000000</td>\n",
       "      <td>59.000</td>\n",
       "      <td>59.000000</td>\n",
       "    </tr>\n",
       "    <tr>\n",
       "      <th>isweekend</th>\n",
       "      <td>67969.0</td>\n",
       "      <td>0.243920</td>\n",
       "      <td>0.429448</td>\n",
       "      <td>0.0</td>\n",
       "      <td>0.000000</td>\n",
       "      <td>0.000000</td>\n",
       "      <td>0.0</td>\n",
       "      <td>0.000000</td>\n",
       "      <td>0.000000</td>\n",
       "      <td>0.000000</td>\n",
       "      <td>0.000000</td>\n",
       "      <td>0.00</td>\n",
       "      <td>1.00</td>\n",
       "      <td>1.000000</td>\n",
       "      <td>1.0000</td>\n",
       "      <td>1.000000</td>\n",
       "      <td>1.000000</td>\n",
       "      <td>1.000</td>\n",
       "      <td>1.000000</td>\n",
       "    </tr>\n",
       "    <tr>\n",
       "      <th>duration</th>\n",
       "      <td>67969.0</td>\n",
       "      <td>17.973287</td>\n",
       "      <td>50.867526</td>\n",
       "      <td>0.0</td>\n",
       "      <td>0.366667</td>\n",
       "      <td>1.916667</td>\n",
       "      <td>2.6</td>\n",
       "      <td>3.033333</td>\n",
       "      <td>3.416667</td>\n",
       "      <td>7.616667</td>\n",
       "      <td>12.533333</td>\n",
       "      <td>20.20</td>\n",
       "      <td>32.00</td>\n",
       "      <td>43.666667</td>\n",
       "      <td>47.7000</td>\n",
       "      <td>52.766667</td>\n",
       "      <td>59.916667</td>\n",
       "      <td>71.472</td>\n",
       "      <td>1439.416667</td>\n",
       "    </tr>\n",
       "    <tr>\n",
       "      <th>airport_pick_up</th>\n",
       "      <td>67969.0</td>\n",
       "      <td>0.077888</td>\n",
       "      <td>0.267998</td>\n",
       "      <td>0.0</td>\n",
       "      <td>0.000000</td>\n",
       "      <td>0.000000</td>\n",
       "      <td>0.0</td>\n",
       "      <td>0.000000</td>\n",
       "      <td>0.000000</td>\n",
       "      <td>0.000000</td>\n",
       "      <td>0.000000</td>\n",
       "      <td>0.00</td>\n",
       "      <td>0.00</td>\n",
       "      <td>1.000000</td>\n",
       "      <td>1.0000</td>\n",
       "      <td>1.000000</td>\n",
       "      <td>1.000000</td>\n",
       "      <td>1.000</td>\n",
       "      <td>1.000000</td>\n",
       "    </tr>\n",
       "  </tbody>\n",
       "</table>\n",
       "</div>"
      ],
      "text/plain": [
       "                         count         mean        std     min           1%  \\\n",
       "passenger_count        67969.0     1.398682   0.959825     0.0     0.000000   \n",
       "trip_distance          67969.0     3.541137   4.782556     0.0     0.000000   \n",
       "fare_amount            67969.0    15.271000  48.398615     2.5     3.500000   \n",
       "extra                  67969.0     1.069702   1.263564     0.0     0.000000   \n",
       "mta_tax                67969.0     0.494910   0.052014     0.0     0.000000   \n",
       "tip_amount             67969.0     2.765738   3.209275     0.0     0.000000   \n",
       "tolls_amount           67969.0     0.562375   2.062867     0.0     0.000000   \n",
       "improvement_surcharge  67969.0     0.299947   0.003986     0.0     0.300000   \n",
       "total_amount           67969.0    22.169266  49.525152     3.3     6.800000   \n",
       "congestion_surcharge   67969.0     2.307670   0.666214     0.0     0.000000   \n",
       "airport_fee            67969.0     0.097361   0.334997     0.0     0.000000   \n",
       "month                  67969.0     6.000000   0.000000     6.0     6.000000   \n",
       "year                   67969.0  2022.000000   0.000000  2022.0  2022.000000   \n",
       "week_of_day            67969.0     2.936912   1.863506     0.0     0.000000   \n",
       "day                    67969.0    15.241846   8.632825     1.0     1.000000   \n",
       "hours                  67969.0    14.199194   5.788724     0.0     0.000000   \n",
       "minutes                67969.0    29.617973  17.318711     0.0     0.000000   \n",
       "isweekend              67969.0     0.243920   0.429448     0.0     0.000000   \n",
       "duration               67969.0    17.973287  50.867526     0.0     0.366667   \n",
       "airport_pick_up        67969.0     0.077888   0.267998     0.0     0.000000   \n",
       "\n",
       "                                2%      3%           4%           5%  \\\n",
       "passenger_count           1.000000     1.0     1.000000     1.000000   \n",
       "trip_distance             0.250000     0.4     0.470000     0.510000   \n",
       "fare_amount               4.000000     4.0     4.500000     4.500000   \n",
       "extra                     0.000000     0.0     0.000000     0.000000   \n",
       "mta_tax                   0.500000     0.5     0.500000     0.500000   \n",
       "tip_amount                0.000000     0.0     0.000000     0.000000   \n",
       "tolls_amount              0.000000     0.0     0.000000     0.000000   \n",
       "improvement_surcharge     0.300000     0.3     0.300000     0.300000   \n",
       "total_amount              7.800000     8.3     8.760000     8.800000   \n",
       "congestion_surcharge      0.000000     0.0     0.000000     0.000000   \n",
       "airport_fee               0.000000     0.0     0.000000     0.000000   \n",
       "month                     6.000000     6.0     6.000000     6.000000   \n",
       "year                   2022.000000  2022.0  2022.000000  2022.000000   \n",
       "week_of_day               0.000000     0.0     0.000000     0.000000   \n",
       "day                       1.000000     1.0     2.000000     2.000000   \n",
       "hours                     0.000000     1.0     1.000000     2.000000   \n",
       "minutes                   1.000000     1.0     2.000000     3.000000   \n",
       "isweekend                 0.000000     0.0     0.000000     0.000000   \n",
       "duration                  1.916667     2.6     3.033333     3.416667   \n",
       "airport_pick_up           0.000000     0.0     0.000000     0.000000   \n",
       "\n",
       "                               25%          50%      75%      90%  \\\n",
       "passenger_count           1.000000     1.000000     1.00     2.00   \n",
       "trip_distance             1.130000     1.900000     3.55     9.02   \n",
       "fare_amount               7.000000    10.500000    16.50    31.20   \n",
       "extra                     0.000000     0.500000     2.50     3.00   \n",
       "mta_tax                   0.500000     0.500000     0.50     0.50   \n",
       "tip_amount                1.000000     2.160000     3.36     5.66   \n",
       "tolls_amount              0.000000     0.000000     0.00     0.00   \n",
       "improvement_surcharge     0.300000     0.300000     0.30     0.30   \n",
       "total_amount             12.350000    15.960000    22.88    43.35   \n",
       "congestion_surcharge      2.500000     2.500000     2.50     2.50   \n",
       "airport_fee               0.000000     0.000000     0.00     0.00   \n",
       "month                     6.000000     6.000000     6.00     6.00   \n",
       "year                   2022.000000  2022.000000  2022.00  2022.00   \n",
       "week_of_day               1.000000     3.000000     4.00     6.00   \n",
       "day                       8.000000    15.000000    23.00    27.00   \n",
       "hours                    10.000000    15.000000    19.00    21.00   \n",
       "minutes                  15.000000    30.000000    45.00    54.00   \n",
       "isweekend                 0.000000     0.000000     0.00     1.00   \n",
       "duration                  7.616667    12.533333    20.20    32.00   \n",
       "airport_pick_up           0.000000     0.000000     0.00     0.00   \n",
       "\n",
       "                               95%        96%          97%          98%  \\\n",
       "passenger_count           3.000000     4.0000     4.000000     5.000000   \n",
       "trip_distance            15.496000    17.0928    17.879600    18.680000   \n",
       "fare_amount              52.000000    52.0000    52.000000    52.000000   \n",
       "extra                     3.500000     3.5000     3.500000     3.500000   \n",
       "mta_tax                   0.500000     0.5000     0.500000     0.500000   \n",
       "tip_amount                9.550000    10.2700    11.960000    12.620000   \n",
       "tolls_amount              6.550000     6.5500     6.550000     6.550000   \n",
       "improvement_surcharge     0.300000     0.3000     0.300000     0.300000   \n",
       "total_amount             63.100000    67.8528    73.100000    75.720000   \n",
       "congestion_surcharge      2.500000     2.5000     2.500000     2.500000   \n",
       "airport_fee               1.250000     1.2500     1.250000     1.250000   \n",
       "month                     6.000000     6.0000     6.000000     6.000000   \n",
       "year                   2022.000000  2022.0000  2022.000000  2022.000000   \n",
       "week_of_day               6.000000     6.0000     6.000000     6.000000   \n",
       "day                      29.000000    29.0000    30.000000    30.000000   \n",
       "hours                    22.000000    23.0000    23.000000    23.000000   \n",
       "minutes                  56.000000    57.0000    58.000000    58.000000   \n",
       "isweekend                 1.000000     1.0000     1.000000     1.000000   \n",
       "duration                 43.666667    47.7000    52.766667    59.916667   \n",
       "airport_pick_up           1.000000     1.0000     1.000000     1.000000   \n",
       "\n",
       "                            99%          max  \n",
       "passenger_count           6.000     6.000000  \n",
       "trip_distance            20.260   410.170000  \n",
       "fare_amount              62.500  6977.000000  \n",
       "extra                     3.750     8.250000  \n",
       "mta_tax                   0.500     2.780000  \n",
       "tip_amount               15.000    98.000000  \n",
       "tolls_amount              6.550    52.000000  \n",
       "improvement_surcharge     0.300     0.300000  \n",
       "total_amount             81.120  6981.300000  \n",
       "congestion_surcharge      2.500     2.500000  \n",
       "airport_fee               1.250     1.250000  \n",
       "month                     6.000     6.000000  \n",
       "year                   2022.000  2022.000000  \n",
       "week_of_day               6.000     6.000000  \n",
       "day                      30.000    30.000000  \n",
       "hours                    23.000    23.000000  \n",
       "minutes                  59.000    59.000000  \n",
       "isweekend                 1.000     1.000000  \n",
       "duration                 71.472  1439.416667  \n",
       "airport_pick_up           1.000     1.000000  "
      ]
     },
     "execution_count": 74,
     "metadata": {},
     "output_type": "execute_result"
    }
   ],
   "source": [
    "taxi2.describe(percentiles=[.01,.02,.03,.04,.05,.25,.5,.75,.9,.95,.96,.97,.98,.99]).T"
   ]
  },
  {
   "cell_type": "code",
   "execution_count": 75,
   "id": "e4cd223f",
   "metadata": {},
   "outputs": [
    {
     "name": "stderr",
     "output_type": "stream",
     "text": [
      "C:\\Users\\riama\\AppData\\Local\\Temp\\ipykernel_7528\\313182940.py:1: SettingWithCopyWarning: \n",
      "A value is trying to be set on a copy of a slice from a DataFrame\n",
      "\n",
      "See the caveats in the documentation: https://pandas.pydata.org/pandas-docs/stable/user_guide/indexing.html#returning-a-view-versus-a-copy\n",
      "  taxi2.drop(columns=[\"tpep_pickup_datetime\",\"tpep_dropoff_datetime\"],inplace=True)\n"
     ]
    }
   ],
   "source": [
    "taxi2.drop(columns=[\"tpep_pickup_datetime\",\"tpep_dropoff_datetime\"],inplace=True)"
   ]
  },
  {
   "cell_type": "code",
   "execution_count": 76,
   "id": "bc57df16",
   "metadata": {},
   "outputs": [],
   "source": [
    "ob_vr=taxi2.dtypes[taxi2.dtypes==\"object\"].index\n",
    "num_vr=taxi2.dtypes[taxi2.dtypes!=\"object\"].index"
   ]
  },
  {
   "cell_type": "code",
   "execution_count": 77,
   "id": "94760962",
   "metadata": {},
   "outputs": [],
   "source": [
    "taxi_num=taxi2[num_vr]\n",
    "taxi_ob=taxi2[ob_vr]"
   ]
  },
  {
   "cell_type": "code",
   "execution_count": 78,
   "id": "d397fb51",
   "metadata": {},
   "outputs": [],
   "source": [
    "def outliers(x):\n",
    "    x=x.clip(upper=x.quantile(.99))\n",
    "    #x=x.xlip(lower=x.quantile(.01))\n",
    "    return x"
   ]
  },
  {
   "cell_type": "code",
   "execution_count": 79,
   "id": "2661fe00",
   "metadata": {},
   "outputs": [],
   "source": [
    "taxi_num1=taxi_num.apply(outliers)"
   ]
  },
  {
   "cell_type": "code",
   "execution_count": 80,
   "id": "e9357d2a",
   "metadata": {},
   "outputs": [],
   "source": [
    "taxi3=pd.concat([taxi_num1,taxi_ob],axis=1)"
   ]
  },
  {
   "cell_type": "markdown",
   "id": "396b0150",
   "metadata": {},
   "source": [
    "##### Multicollinearity"
   ]
  },
  {
   "cell_type": "code",
   "execution_count": 81,
   "id": "5f214e78",
   "metadata": {},
   "outputs": [],
   "source": [
    "taxi3.drop(columns=[\"month\",\"year\",\"fare_amount\"],inplace=True)"
   ]
  },
  {
   "cell_type": "code",
   "execution_count": 82,
   "id": "6e367e0e",
   "metadata": {},
   "outputs": [
    {
     "data": {
      "text/plain": [
       "<AxesSubplot:>"
      ]
     },
     "execution_count": 82,
     "metadata": {},
     "output_type": "execute_result"
    },
    {
     "data": {
      "image/png": "[encoded data removed]",
      "text/plain": [
       "<Figure size 792x432 with 2 Axes>"
      ]
     },
     "metadata": {
      "needs_background": "light"
     },
     "output_type": "display_data"
    }
   ],
   "source": [
    "cr=taxi3.corr()\n",
    "cr1=cr[abs(cr)>.7]\n",
    "plt.figure(figsize=[11,6])\n",
    "sns.heatmap(cr1,annot=True,cmap=\"coolwarm\")"
   ]
  },
  {
   "cell_type": "code",
   "execution_count": 83,
   "id": "23a70d3f",
   "metadata": {},
   "outputs": [],
   "source": [
    "taxi3.drop(columns=[\"airport_fee\",\"week_of_day\"],inplace=True)"
   ]
  },
  {
   "cell_type": "markdown",
   "id": "508447a9",
   "metadata": {},
   "source": [
    "#### Dummy Creation"
   ]
  },
  {
   "cell_type": "code",
   "execution_count": 84,
   "id": "e8f63771",
   "metadata": {},
   "outputs": [
    {
     "name": "stderr",
     "output_type": "stream",
     "text": [
      "C:\\Users\\riama\\anaconda3\\lib\\site-packages\\pandas\\core\\algorithms.py:798: FutureWarning: In a future version, the Index constructor will not infer numeric dtypes when passed object-dtype sequences (matching Series behavior)\n",
      "  uniques = Index(uniques)\n"
     ]
    }
   ],
   "source": [
    "final=pd.get_dummies(data=taxi3,drop_first=True)"
   ]
  },
  {
   "cell_type": "code",
   "execution_count": 85,
   "id": "ef7b6775",
   "metadata": {},
   "outputs": [
    {
     "data": {
      "text/html": [
       "<div>\n",
       "<style scoped>\n",
       "    .dataframe tbody tr th:only-of-type {\n",
       "        vertical-align: middle;\n",
       "    }\n",
       "\n",
       "    .dataframe tbody tr th {\n",
       "        vertical-align: top;\n",
       "    }\n",
       "\n",
       "    .dataframe thead th {\n",
       "        text-align: right;\n",
       "    }\n",
       "</style>\n",
       "<table border=\"1\" class=\"dataframe\">\n",
       "  <thead>\n",
       "    <tr style=\"text-align: right;\">\n",
       "      <th></th>\n",
       "      <th>passenger_count</th>\n",
       "      <th>trip_distance</th>\n",
       "      <th>extra</th>\n",
       "      <th>mta_tax</th>\n",
       "      <th>tip_amount</th>\n",
       "      <th>tolls_amount</th>\n",
       "      <th>improvement_surcharge</th>\n",
       "      <th>total_amount</th>\n",
       "      <th>congestion_surcharge</th>\n",
       "      <th>day</th>\n",
       "      <th>...</th>\n",
       "      <th>fare_cat_(50-60]</th>\n",
       "      <th>fare_cat_(60-70]</th>\n",
       "      <th>fare_cat_(70-80]</th>\n",
       "      <th>fare_cat_(80-90]</th>\n",
       "      <th>fare_cat_(90-100]</th>\n",
       "      <th>fare_cat_100+</th>\n",
       "      <th>duration_cat_duration_bt_0_30m</th>\n",
       "      <th>duration_cat_duration_bt_30_60m</th>\n",
       "      <th>duration_cat_duration_bt_60_120m</th>\n",
       "      <th>duration_cat_duration_morethan_120m</th>\n",
       "    </tr>\n",
       "  </thead>\n",
       "  <tbody>\n",
       "    <tr>\n",
       "      <th>11293</th>\n",
       "      <td>1.0</td>\n",
       "      <td>1.75</td>\n",
       "      <td>0.0</td>\n",
       "      <td>0.5</td>\n",
       "      <td>2.00</td>\n",
       "      <td>0.0</td>\n",
       "      <td>0.3</td>\n",
       "      <td>14.80</td>\n",
       "      <td>2.5</td>\n",
       "      <td>1</td>\n",
       "      <td>...</td>\n",
       "      <td>0</td>\n",
       "      <td>0</td>\n",
       "      <td>0</td>\n",
       "      <td>0</td>\n",
       "      <td>0</td>\n",
       "      <td>0</td>\n",
       "      <td>0</td>\n",
       "      <td>0</td>\n",
       "      <td>0</td>\n",
       "      <td>0</td>\n",
       "    </tr>\n",
       "    <tr>\n",
       "      <th>3241804</th>\n",
       "      <td>1.0</td>\n",
       "      <td>9.16</td>\n",
       "      <td>0.0</td>\n",
       "      <td>0.5</td>\n",
       "      <td>0.00</td>\n",
       "      <td>0.0</td>\n",
       "      <td>0.3</td>\n",
       "      <td>39.30</td>\n",
       "      <td>2.5</td>\n",
       "      <td>29</td>\n",
       "      <td>...</td>\n",
       "      <td>0</td>\n",
       "      <td>0</td>\n",
       "      <td>0</td>\n",
       "      <td>0</td>\n",
       "      <td>0</td>\n",
       "      <td>0</td>\n",
       "      <td>0</td>\n",
       "      <td>1</td>\n",
       "      <td>0</td>\n",
       "      <td>0</td>\n",
       "    </tr>\n",
       "    <tr>\n",
       "      <th>2122208</th>\n",
       "      <td>1.0</td>\n",
       "      <td>5.00</td>\n",
       "      <td>3.0</td>\n",
       "      <td>0.5</td>\n",
       "      <td>2.00</td>\n",
       "      <td>0.0</td>\n",
       "      <td>0.3</td>\n",
       "      <td>25.80</td>\n",
       "      <td>2.5</td>\n",
       "      <td>19</td>\n",
       "      <td>...</td>\n",
       "      <td>0</td>\n",
       "      <td>0</td>\n",
       "      <td>0</td>\n",
       "      <td>0</td>\n",
       "      <td>0</td>\n",
       "      <td>0</td>\n",
       "      <td>1</td>\n",
       "      <td>0</td>\n",
       "      <td>0</td>\n",
       "      <td>0</td>\n",
       "    </tr>\n",
       "    <tr>\n",
       "      <th>645015</th>\n",
       "      <td>1.0</td>\n",
       "      <td>3.02</td>\n",
       "      <td>1.0</td>\n",
       "      <td>0.5</td>\n",
       "      <td>1.78</td>\n",
       "      <td>0.0</td>\n",
       "      <td>0.3</td>\n",
       "      <td>19.58</td>\n",
       "      <td>2.5</td>\n",
       "      <td>6</td>\n",
       "      <td>...</td>\n",
       "      <td>0</td>\n",
       "      <td>0</td>\n",
       "      <td>0</td>\n",
       "      <td>0</td>\n",
       "      <td>0</td>\n",
       "      <td>0</td>\n",
       "      <td>1</td>\n",
       "      <td>0</td>\n",
       "      <td>0</td>\n",
       "      <td>0</td>\n",
       "    </tr>\n",
       "    <tr>\n",
       "      <th>1752107</th>\n",
       "      <td>1.0</td>\n",
       "      <td>3.53</td>\n",
       "      <td>0.5</td>\n",
       "      <td>0.5</td>\n",
       "      <td>2.74</td>\n",
       "      <td>0.0</td>\n",
       "      <td>0.3</td>\n",
       "      <td>21.04</td>\n",
       "      <td>2.5</td>\n",
       "      <td>15</td>\n",
       "      <td>...</td>\n",
       "      <td>0</td>\n",
       "      <td>0</td>\n",
       "      <td>0</td>\n",
       "      <td>0</td>\n",
       "      <td>0</td>\n",
       "      <td>0</td>\n",
       "      <td>1</td>\n",
       "      <td>0</td>\n",
       "      <td>0</td>\n",
       "      <td>0</td>\n",
       "    </tr>\n",
       "  </tbody>\n",
       "</table>\n",
       "<p>5 rows × 46 columns</p>\n",
       "</div>"
      ],
      "text/plain": [
       "         passenger_count  trip_distance  extra  mta_tax  tip_amount  \\\n",
       "11293                1.0           1.75    0.0      0.5        2.00   \n",
       "3241804              1.0           9.16    0.0      0.5        0.00   \n",
       "2122208              1.0           5.00    3.0      0.5        2.00   \n",
       "645015               1.0           3.02    1.0      0.5        1.78   \n",
       "1752107              1.0           3.53    0.5      0.5        2.74   \n",
       "\n",
       "         tolls_amount  improvement_surcharge  total_amount  \\\n",
       "11293             0.0                    0.3         14.80   \n",
       "3241804           0.0                    0.3         39.30   \n",
       "2122208           0.0                    0.3         25.80   \n",
       "645015            0.0                    0.3         19.58   \n",
       "1752107           0.0                    0.3         21.04   \n",
       "\n",
       "         congestion_surcharge  day  ...  fare_cat_(50-60]  fare_cat_(60-70]  \\\n",
       "11293                     2.5    1  ...                 0                 0   \n",
       "3241804                   2.5   29  ...                 0                 0   \n",
       "2122208                   2.5   19  ...                 0                 0   \n",
       "645015                    2.5    6  ...                 0                 0   \n",
       "1752107                   2.5   15  ...                 0                 0   \n",
       "\n",
       "         fare_cat_(70-80]  fare_cat_(80-90]  fare_cat_(90-100]  fare_cat_100+  \\\n",
       "11293                   0                 0                  0              0   \n",
       "3241804                 0                 0                  0              0   \n",
       "2122208                 0                 0                  0              0   \n",
       "645015                  0                 0                  0              0   \n",
       "1752107                 0                 0                  0              0   \n",
       "\n",
       "         duration_cat_duration_bt_0_30m  duration_cat_duration_bt_30_60m  \\\n",
       "11293                                 0                                0   \n",
       "3241804                               0                                1   \n",
       "2122208                               1                                0   \n",
       "645015                                1                                0   \n",
       "1752107                               1                                0   \n",
       "\n",
       "         duration_cat_duration_bt_60_120m  duration_cat_duration_morethan_120m  \n",
       "11293                                   0                                    0  \n",
       "3241804                                 0                                    0  \n",
       "2122208                                 0                                    0  \n",
       "645015                                  0                                    0  \n",
       "1752107                                 0                                    0  \n",
       "\n",
       "[5 rows x 46 columns]"
      ]
     },
     "execution_count": 85,
     "metadata": {},
     "output_type": "execute_result"
    }
   ],
   "source": [
    "final.head()"
   ]
  },
  {
   "cell_type": "code",
   "execution_count": 86,
   "id": "2b7050d9",
   "metadata": {},
   "outputs": [
    {
     "data": {
      "text/plain": [
       "Index(['passenger_count', 'trip_distance', 'extra', 'mta_tax', 'tip_amount',\n",
       "       'tolls_amount', 'improvement_surcharge', 'total_amount',\n",
       "       'congestion_surcharge', 'day', 'hours', 'minutes', 'isweekend',\n",
       "       'duration', 'airport_pick_up', 'VendorID_2',\n",
       "       'RatecodeID_Nassau_or_Westchester', 'RatecodeID_Negotiated_fare',\n",
       "       'RatecodeID_Newark', 'RatecodeID_Standard_rate', 'RatecodeID_other',\n",
       "       'store_and_fwd_flag_Y', 'payment_type_Credit_card',\n",
       "       'payment_type_Dispute', 'payment_type_No_charge',\n",
       "       'day_cut_mid_of_month', 'day_cut_starting_of_month',\n",
       "       'hours_cat_early_morning', 'hours_cat_evening', 'hours_cat_midnight',\n",
       "       'hours_cat_morning', 'hours_cat_night', 'fare_cat_(10-20]',\n",
       "       'fare_cat_(20-30]', 'fare_cat_(30-40]', 'fare_cat_(40-50]',\n",
       "       'fare_cat_(50-60]', 'fare_cat_(60-70]', 'fare_cat_(70-80]',\n",
       "       'fare_cat_(80-90]', 'fare_cat_(90-100]', 'fare_cat_100+',\n",
       "       'duration_cat_duration_bt_0_30m', 'duration_cat_duration_bt_30_60m',\n",
       "       'duration_cat_duration_bt_60_120m',\n",
       "       'duration_cat_duration_morethan_120m'],\n",
       "      dtype='object')"
      ]
     },
     "execution_count": 86,
     "metadata": {},
     "output_type": "execute_result"
    }
   ],
   "source": [
    "final.columns"
   ]
  },
  {
   "cell_type": "code",
   "execution_count": 87,
   "id": "b283f1e5",
   "metadata": {},
   "outputs": [],
   "source": [
    "final.drop(columns=['fare_cat_(10-20]',\n",
    "       'fare_cat_(20-30]', 'fare_cat_(30-40]', 'fare_cat_(40-50]',\n",
    "       'fare_cat_(50-60]', 'fare_cat_(60-70]', 'fare_cat_(70-80]',\n",
    "       'fare_cat_(80-90]', 'fare_cat_(90-100]', 'fare_cat_100+'],inplace=True)"
   ]
  },
  {
   "cell_type": "code",
   "execution_count": 88,
   "id": "a1abdcf5",
   "metadata": {},
   "outputs": [],
   "source": [
    "from sklearn.ensemble import RandomForestRegressor\n",
    "from sklearn.model_selection import GridSearchCV,train_test_split,RandomizedSearchCV"
   ]
  },
  {
   "cell_type": "code",
   "execution_count": 89,
   "id": "ed6b21e0",
   "metadata": {},
   "outputs": [],
   "source": [
    "y=final[\"total_amount\"]\n",
    "x=final.drop(columns=[\"total_amount\"])"
   ]
  },
  {
   "cell_type": "code",
   "execution_count": 90,
   "id": "4ef4c280",
   "metadata": {},
   "outputs": [],
   "source": [
    "x_train,x_test,y_train,y_test=train_test_split(x,y,test_size=.3,random_state=0)"
   ]
  },
  {
   "cell_type": "code",
   "execution_count": 91,
   "id": "b197b012",
   "metadata": {},
   "outputs": [
    {
     "data": {
      "text/plain": [
       "RandomForestRegressor()"
      ]
     },
     "execution_count": 91,
     "metadata": {},
     "output_type": "execute_result"
    }
   ],
   "source": [
    "rfr=RandomForestRegressor()\n",
    "rfr.fit(x_train,y_train)"
   ]
  },
  {
   "cell_type": "code",
   "execution_count": 92,
   "id": "3b2fa325",
   "metadata": {},
   "outputs": [
    {
     "name": "stdout",
     "output_type": "stream",
     "text": [
      "Train Score 0.9974205751623206\n",
      "Test Score 0.9831431989792434\n"
     ]
    }
   ],
   "source": [
    "print(\"Train Score\",rfr.score(x_train,y_train))\n",
    "print(\"Test Score\",rfr.score(x_test,y_test))"
   ]
  },
  {
   "cell_type": "code",
   "execution_count": 93,
   "id": "1bf8d8d7",
   "metadata": {},
   "outputs": [],
   "source": [
    "pred_train=rfr.predict(x_train)\n",
    "pred_test=rfr.predict(x_test)"
   ]
  },
  {
   "cell_type": "code",
   "execution_count": 94,
   "id": "8fa068ca",
   "metadata": {},
   "outputs": [
    {
     "name": "stdout",
     "output_type": "stream",
     "text": [
      "Train MSE 0.6578165150409907\n",
      "Train rmse 0.8110588850638347\n",
      "Train MAE 0.19539604859389356\n",
      "Train MAPE 0.00855762185216984\n"
     ]
    }
   ],
   "source": [
    "print(\"Train MSE\", np.mean((pred_train-y_train)**(2)))          \n",
    "print(\"Train rmse\", np.sqrt(np.mean((pred_train-y_train)**(2))))\n",
    "print(\"Train MAE\",  np.mean(np.abs(pred_train-y_train)))\n",
    "print(\"Train MAPE\",  np.mean(np.abs((pred_train-y_train)/y_train)))"
   ]
  },
  {
   "cell_type": "code",
   "execution_count": 95,
   "id": "492aae0b",
   "metadata": {},
   "outputs": [
    {
     "name": "stdout",
     "output_type": "stream",
     "text": [
      "Test MSE 4.25500018165516\n",
      "Test rmse 2.0627651785055807\n",
      "Test MAE 0.5163516992790952\n",
      "Test MAPE 0.023026048000405027\n"
     ]
    }
   ],
   "source": [
    "print(\"Test MSE\", np.mean((pred_test-y_test)**(2)))\n",
    "print(\"Test rmse\", np.sqrt(np.mean((pred_test-y_test)**(2))))\n",
    "print(\"Test MAE\",  np.mean(np.abs(pred_test-y_test)))\n",
    "print(\"Test MAPE\",  np.mean(np.abs((pred_test-y_test)/y_test)))"
   ]
  },
  {
   "cell_type": "code",
   "execution_count": 1,
   "id": "aa0f0a68",
   "metadata": {},
   "outputs": [],
   "source": [
    "import xgboost"
   ]
  },
  {
   "cell_type": "code",
   "execution_count": null,
   "id": "37d98e7e",
   "metadata": {},
   "outputs": [],
   "source": []
  }
 ],
 "metadata": {
  "kernelspec": {
   "display_name": "Python 3 (ipykernel)",
   "language": "python",
   "name": "python3"
  },
  "language_info": {
   "codemirror_mode": {
    "name": "ipython",
    "version": 3
   },
   "file_extension": ".py",
   "mimetype": "text/x-python",
   "name": "python",
   "nbconvert_exporter": "python",
   "pygments_lexer": "ipython3",
   "version": "3.9.12"
  }
 },
 "nbformat": 4,
 "nbformat_minor": 5
}
